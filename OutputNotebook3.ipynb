{
 "metadata": {
  "kernelspec": {
   "display_name": "Python 3",
   "language": "python",
   "name": "python3"
  },
  "language_info": {
   "codemirror_mode": {
    "name": "ipython",
    "version": 3
   },
   "file_extension": ".py",
   "mimetype": "text/x-python",
   "name": "python",
   "nbconvert_exporter": "python",
   "pygments_lexer": "ipython3",
   "version": "3.7.1"
  },
  "name": ""
 },
 "nbformat": 3,
 "nbformat_minor": 0,
 "worksheets": [
  {
   "cells": [
    {
     "cell_type": "markdown",
     "metadata": {
      "pycharm": {}
     },
     "source": [
      "$$\n",
      "\\newcommand{\\mat}[1]{\\boldsymbol {#1}}\n",
      "\\newcommand{\\mattr}[1]{\\boldsymbol {#1}^\\top}\n",
      "\\newcommand{\\matinv}[1]{\\boldsymbol {#1}^{-1}}\n",
      "\\newcommand{\\vec}[1]{\\boldsymbol {#1}}\n",
      "\\newcommand{\\vectr}[1]{\\boldsymbol {#1}^\\top}\n",
      "\\newcommand{\\rvar}[1]{\\mathrm {#1}}\n",
      "\\newcommand{\\rvec}[1]{\\boldsymbol{\\mathrm{#1}}}\n",
      "\\newcommand{\\diag}{\\mathop{\\mathrm {diag}}}\n",
      "\\newcommand{\\set}[1]{\\mathbb {#1}}\n",
      "\\newcommand{\\norm}[1]{\\left\\lVert#1\\right\\rVert}\n",
      "\\newcommand{\\pderiv}[2]{\\frac{\\partial #1}{\\partial #2}}\n",
      "\\newcommand{\\bb}[1]{\\boldsymbol{#1}}\n",
      "$$\n",
      "# Part 3: Convolutional Architectures\n",
      "<a id=part3></a>"
     ]
    },
    {
     "cell_type": "markdown",
     "metadata": {
      "pycharm": {}
     },
     "source": [
      "In this part we will explore convolution networks and the effects of their architecture on accuracy. We'll implement a common block-based deep CNN pattern and we'll perform various experiments on it while varying the architecture. Then we'll implement our own custom architecture to see whether we can get high classification results on a large subset of CIFAR-10.\n",
      "\n",
      "Training will be performed on GPU."
     ]
    },
    {
     "cell_type": "code",
     "collapsed": false,
     "input": [
      "import os\n",
      "import re\n",
      "import sys\n",
      "import glob\n",
      "import numpy as np\n",
      "import matplotlib.pyplot as plt\n",
      "import unittest\n",
      "import torch\n",
      "import torchvision\n",
      "import torchvision.transforms as tvtf\n",
      "\n",
      "%matplotlib inline\n",
      "%load_ext autoreload\n",
      "%autoreload 2\n",
      "\n",
      "seed = 42\n",
      "device = torch.device('cuda' if torch.cuda.is_available() else 'cpu')\n",
      "\n",
      "plt.rcParams.update({'font.size': 12})\n",
      "test = unittest.TestCase()"
     ],
     "language": "python",
     "metadata": {
      "pycharm": {
       "is_executing": false
      }
     },
     "outputs": [],
     "prompt_number": 1
    },
    {
     "cell_type": "markdown",
     "metadata": {
      "pycharm": {}
     },
     "source": [
      "## Convolutional layers and networks\n",
      "<a id=part3_1></a>"
     ]
    },
    {
     "cell_type": "markdown",
     "metadata": {
      "pycharm": {}
     },
     "source": [
      "Convolutional layers are the most essential building blocks of the state of the art deep learning image classification models and also play an important role in many other tasks.\n",
      "As we saw in the tutorial, convolutional layers operate on and produce volumes (3D tensors) of activations.\n",
      "\n",
      "\n",
      "One way to think about them is as if the neurons are organized in a 3D grid,\n",
      "where neurons at the same depth share weights (represented here as colors).\n",
      "Contrary to fully connected (affine) layers, neurons in convolutional layers are **not** connected to each of the activations of the previous layer.\n",
      "Instead, each neuron is connected only to a small region of the input volume e.g. a 5x5x$C_{\\mathrm{in}}$ slice\n",
      "(where $C_{\\mathrm{in}}$ is the input volume's depth).\n",
      "\n",
      "<img src=\"imgs/depthcol.jpeg\" />\n",
      "\n",
      "Another way to interpret convolutional layers is as a collection of 3D learnable filters,\n",
      "each of which operates on a small spatial region of the input volume.\n",
      "Each filter is convolved with the input volume (\"slides over it\"),\n",
      "and a dot product is computed at each location followed by a non-linearity which produces one activation.\n",
      "All these activations produce a 2D plane known as a **feature map**.\n",
      "Multiple feature maps (one for each filter) comprise the output volume.\n",
      "\n",
      "<img src=\"imgs/cnn_filters.png\" width=\"600\" />\n",
      "\n",
      "A crucial property of convolutional layers is their translation invariance,\n",
      "i.e. their ability to detect features regardelss of their spatial location in the input.\n",
      "\n",
      "Convolutional network architectures usually follow a pattern basic repeating blocks: one or more convolution layers, each followed by a non-linearity (generally ReLU) and then a pooling layer to reduce spatial dimensions. Usually, the number of convolutional filters increases the deeper they are in the network.\n",
      "These layers are meant to extract features from the input.\n",
      "Then, one or more fully-connected layers is used to combine the extracted features into the required number of output class scores."
     ]
    },
    {
     "cell_type": "markdown",
     "metadata": {
      "pycharm": {}
     },
     "source": [
      "## Building convolutional networks with PyTorch\n",
      "<a id=part3_2></a>"
     ]
    },
    {
     "cell_type": "markdown",
     "metadata": {
      "pycharm": {}
     },
     "source": [
      "PyTorch provides all the basic building blocks needed for creating a convolutional arcitecture within the [`torch.nn`](https://pytorch.org/docs/stable/nn.html) package.\n",
      "Let's use them to create a basic convolutional network with the following architecture pattern:\n",
      "\n",
      "    [(CONV -> ReLU)*P -> MaxPool]*(N/P) -> (Linear -> ReLU)*M -> Linear\n",
      "\n",
      "Here $N$ is the total number of convolutional layers,\n",
      "$P$ specifies how many convolutions to perform before each pooling layer\n",
      "and $M$ specifies the number of hidden fully-connected layers before the final output layer."
     ]
    },
    {
     "cell_type": "markdown",
     "metadata": {
      "pycharm": {}
     },
     "source": [
      "**TODO**: Complete the implementaion of the `ConvClassifier` class in the `hw2/models.py` module."
     ]
    },
    {
     "cell_type": "code",
     "collapsed": false,
     "input": [
      "import hw2.models as models\n",
      "torch.manual_seed(seed)\n",
      "\n",
      "net = models.ConvClassifier((3,100,100), 10, filters=[32]*4, pool_every=2, hidden_dims=[100]*2).to(device)\n",
      "print(net)\n",
      "\n",
      "test_image = torch.randint(low=0, high=256, size=(3, 100, 100), dtype=torch.float).to(device)\n",
      "test_out = net(test_image.unsqueeze(0))\n",
      "print('out =', test_out)\n",
      "\n",
      "expected_out = torch.load('tests/assets/expected_conv_out.pt').to(device)\n",
      "test.assertLess(torch.norm(test_out - expected_out).item(), 1e-5)"
     ],
     "language": "python",
     "metadata": {
      "pycharm": {
       "is_executing": false
      }
     },
     "outputs": [
      {
       "output_type": "stream",
       "stream": "stdout",
       "text": [
        "ConvClassifier(\n",
        "  (feature_extractor): Sequential(\n",
        "    (0): Conv2d(3, 32, kernel_size=(3, 3), stride=(1, 1), padding=(1, 1))\n",
        "    (1): ReLU()\n",
        "    (2): Conv2d(32, 32, kernel_size=(3, 3), stride=(1, 1), padding=(1, 1))\n",
        "    (3): ReLU()\n",
        "    (4): MaxPool2d(kernel_size=2, stride=2, padding=0, dilation=1, ceil_mode=False)\n",
        "    (5): Conv2d(32, 32, kernel_size=(3, 3), stride=(1, 1), padding=(1, 1))\n",
        "    (6): ReLU()\n",
        "    (7): Conv2d(32, 32, kernel_size=(3, 3), stride=(1, 1), padding=(1, 1))\n",
        "    (8): ReLU()\n",
        "    (9): MaxPool2d(kernel_size=2, stride=2, padding=0, dilation=1, ceil_mode=False)\n",
        "  )\n",
        "  (classifier): Sequential(\n",
        "    (0): Linear(in_features=20000, out_features=100, bias=True)\n",
        "    (1): ReLU()\n",
        "    (2): Linear(in_features=100, out_features=100, bias=True)\n",
        "    (3): ReLU()\n",
        "    (4): Linear(in_features=100, out_features=10, bias=True)\n",
        "  )\n",
        ")\n",
        "out = tensor([[-0.0868, -0.3790, -0.4341, -0.1236, -0.2160,  0.1683,  0.4739,  0.0750,\n",
        "          0.1151, -0.1606]], grad_fn=<AddmmBackward>)\n"
       ]
      }
     ],
     "prompt_number": 2
    },
    {
     "cell_type": "markdown",
     "metadata": {
      "pycharm": {}
     },
     "source": [
      "**Note about running on GPUs**.\n",
      "\n",
      "Notice how we called `.to(device)` on **both** the model and the input tensor.\n",
      "Here the `device` is a `torch.device` object that we created above. If an nvidia GPU is available on the machine you're running this on, the `device` will be `'cuda'`. When you run `.to(device)` on a model, it recursively goes over all the model parameter tensors and copies their memory to the GPU. Similarly, calling `.to(device)` on the input image also copies it.\n",
      "\n",
      "In order to train on a GPU, you need to make sure to move **all** your tensors to it. You'll get errors if you try to mix CPU and GPU tensors in a computation."
     ]
    },
    {
     "cell_type": "code",
     "collapsed": false,
     "input": [
      "print(f'This notebook is running with device={device}')\n",
      "print(f'The model parameter tensors are therefore also on device={next(net.parameters()).device}')\n",
      "print(f'The test image is therefore also on device={test_image.device}')"
     ],
     "language": "python",
     "metadata": {
      "pycharm": {
       "is_executing": false
      }
     },
     "outputs": [
      {
       "output_type": "stream",
       "stream": "stdout",
       "text": [
        "This notebook is running with device=cpu\n",
        "The model parameter tensors are therefore also on device=cpu\n",
        "The test image is therefore also on device=cpu\n"
       ]
      }
     ],
     "prompt_number": 3
    },
    {
     "cell_type": "markdown",
     "metadata": {
      "pycharm": {}
     },
     "source": [
      "Let's load CIFAR-10 again to use as our dataset."
     ]
    },
    {
     "cell_type": "code",
     "collapsed": false,
     "input": [
      "data_dir = os.path.expanduser('~/.pytorch-datasets')\n",
      "ds_train = torchvision.datasets.CIFAR10(root=data_dir, download=True, train=True, transform=tvtf.ToTensor())\n",
      "ds_test = torchvision.datasets.CIFAR10(root=data_dir, download=True, train=False, transform=tvtf.ToTensor())\n",
      "\n",
      "print(f'Train: {len(ds_train)} samples')\n",
      "print(f'Test: {len(ds_test)} samples')\n",
      "\n",
      "x0,_ = ds_train[0]\n",
      "in_size = x0.shape\n",
      "num_classes = 10\n",
      "print('input image size =', in_size)"
     ],
     "language": "python",
     "metadata": {
      "pycharm": {
       "is_executing": false
      }
     },
     "outputs": [
      {
       "output_type": "stream",
       "stream": "stdout",
       "text": [
        "Files already downloaded and verified\n"
       ]
      },
      {
       "output_type": "stream",
       "stream": "stdout",
       "text": [
        "Files already downloaded and verified\n"
       ]
      },
      {
       "output_type": "stream",
       "stream": "stdout",
       "text": [
        "Train: 50000 samples\n",
        "Test: 10000 samples\n",
        "input image size = torch.Size([3, 32, 32])\n"
       ]
      }
     ],
     "prompt_number": 4
    },
    {
     "cell_type": "markdown",
     "metadata": {
      "pycharm": {}
     },
     "source": [
      "Now as usual, as a sanity test let's make sure we can overfit a tiny dataset with our model. But first we need to adapt our `Trainer` for PyTorch models."
     ]
    },
    {
     "cell_type": "markdown",
     "metadata": {
      "pycharm": {}
     },
     "source": [
      "**TODO**: Complete the implementaion of the `TorchTrainer` class in the `hw2/training.py` module."
     ]
    },
    {
     "cell_type": "code",
     "collapsed": false,
     "input": [
      "import hw2.training as training\n",
      "torch.manual_seed(seed)\n",
      "\n",
      "# Define a tiny part of the CIFAR-10 dataset to overfit it\n",
      "batch_size = 2\n",
      "max_batches = 25\n",
      "dl_train = torch.utils.data.DataLoader(ds_train, batch_size, shuffle=False)\n",
      "\n",
      "# Create model, loss and optimizer instances\n",
      "model = models.ConvClassifier(in_size, num_classes, filters=[32], pool_every=1, hidden_dims=[100])\n",
      "loss_fn = torch.nn.CrossEntropyLoss()\n",
      "optimizer = torch.optim.SGD(model.parameters(), lr=1e-2, momentum=0.9,)\n",
      "\n",
      "# Use TorchTrainer to run only the training loop a few times.\n",
      "trainer = training.TorchTrainer(model, loss_fn, optimizer, device)\n",
      "best_acc = 0\n",
      "for i in range(22):\n",
      "    res = trainer.train_epoch(dl_train, max_batches=max_batches, verbose=(i%2==0))\n",
      "    best_acc = res.accuracy if res.accuracy > best_acc else best_acc\n",
      "    \n",
      "# Test overfitting\n",
      "test.assertGreaterEqual(best_acc, 95)"
     ],
     "language": "python",
     "metadata": {
      "pycharm": {
       "is_executing": false
      }
     },
     "outputs": [
      {
       "output_type": "stream",
       "stream": "stdout",
       "text": [
        "\r",
        "train_batch:   0%|          | 0/25 [00:00<?, ?it/s]"
       ]
      },
      {
       "output_type": "stream",
       "stream": "stdout",
       "text": [
        "\r",
        "train_batch (2.263):   0%|          | 0/25 [00:00<?, ?it/s]"
       ]
      },
      {
       "output_type": "stream",
       "stream": "stdout",
       "text": [
        "\r",
        "train_batch (2.299):   4%|\u258d         | 1/25 [00:00<00:00, 31.77it/s]"
       ]
      },
      {
       "output_type": "stream",
       "stream": "stdout",
       "text": [
        "\r",
        "train_batch (2.404):   8%|\u258a         | 2/25 [00:00<00:00, 53.63it/s]"
       ]
      },
      {
       "output_type": "stream",
       "stream": "stdout",
       "text": [
        "\r",
        "train_batch (2.392):  12%|\u2588\u258f        | 3/25 [00:00<00:00, 68.79it/s]"
       ]
      },
      {
       "output_type": "stream",
       "stream": "stdout",
       "text": [
        "\r",
        "train_batch (2.579):  16%|\u2588\u258c        | 4/25 [00:00<00:00, 81.18it/s]"
       ]
      },
      {
       "output_type": "stream",
       "stream": "stdout",
       "text": [
        "\r",
        "train_batch (2.385):  20%|\u2588\u2588        | 5/25 [00:00<00:00, 91.86it/s]"
       ]
      },
      {
       "output_type": "stream",
       "stream": "stdout",
       "text": [
        "\r",
        "train_batch (2.237):  24%|\u2588\u2588\u258d       | 6/25 [00:00<00:00, 99.36it/s]"
       ]
      },
      {
       "output_type": "stream",
       "stream": "stdout",
       "text": [
        "\r",
        "train_batch (1.866):  28%|\u2588\u2588\u258a       | 7/25 [00:00<00:00, 105.77it/s]"
       ]
      },
      {
       "output_type": "stream",
       "stream": "stdout",
       "text": [
        "\r",
        "train_batch (2.105):  32%|\u2588\u2588\u2588\u258f      | 8/25 [00:00<00:00, 111.26it/s]"
       ]
      },
      {
       "output_type": "stream",
       "stream": "stdout",
       "text": [
        "\r",
        "train_batch (2.568):  36%|\u2588\u2588\u2588\u258c      | 9/25 [00:00<00:00, 115.08it/s]"
       ]
      },
      {
       "output_type": "stream",
       "stream": "stdout",
       "text": [
        "\r",
        "train_batch (2.672):  40%|\u2588\u2588\u2588\u2588      | 10/25 [00:00<00:00, 119.20it/s]"
       ]
      },
      {
       "output_type": "stream",
       "stream": "stdout",
       "text": [
        "\r",
        "train_batch (2.728):  44%|\u2588\u2588\u2588\u2588\u258d     | 11/25 [00:00<00:00, 123.07it/s]"
       ]
      },
      {
       "output_type": "stream",
       "stream": "stdout",
       "text": [
        "\r",
        "train_batch (2.291):  48%|\u2588\u2588\u2588\u2588\u258a     | 12/25 [00:00<00:00, 126.51it/s]"
       ]
      },
      {
       "output_type": "stream",
       "stream": "stdout",
       "text": [
        "\r",
        "train_batch (2.494):  52%|\u2588\u2588\u2588\u2588\u2588\u258f    | 13/25 [00:00<00:00, 129.39it/s]"
       ]
      },
      {
       "output_type": "stream",
       "stream": "stdout",
       "text": [
        "\r",
        "train_batch (2.494):  56%|\u2588\u2588\u2588\u2588\u2588\u258c    | 14/25 [00:00<00:00, 138.38it/s]"
       ]
      },
      {
       "output_type": "stream",
       "stream": "stdout",
       "text": [
        "\r",
        "train_batch (2.797):  56%|\u2588\u2588\u2588\u2588\u2588\u258c    | 14/25 [00:00<00:00, 138.38it/s]"
       ]
      },
      {
       "output_type": "stream",
       "stream": "stdout",
       "text": [
        "\r",
        "train_batch (2.350):  60%|\u2588\u2588\u2588\u2588\u2588\u2588    | 15/25 [00:00<00:00, 138.38it/s]"
       ]
      },
      {
       "output_type": "stream",
       "stream": "stdout",
       "text": [
        "\r",
        "train_batch (2.336):  64%|\u2588\u2588\u2588\u2588\u2588\u2588\u258d   | 16/25 [00:00<00:00, 138.38it/s]"
       ]
      },
      {
       "output_type": "stream",
       "stream": "stdout",
       "text": [
        "\r",
        "train_batch (2.441):  68%|\u2588\u2588\u2588\u2588\u2588\u2588\u258a   | 17/25 [00:00<00:00, 138.38it/s]"
       ]
      },
      {
       "output_type": "stream",
       "stream": "stdout",
       "text": [
        "\r",
        "train_batch (2.311):  72%|\u2588\u2588\u2588\u2588\u2588\u2588\u2588\u258f  | 18/25 [00:00<00:00, 138.38it/s]"
       ]
      },
      {
       "output_type": "stream",
       "stream": "stdout",
       "text": [
        "\r",
        "train_batch (2.194):  76%|\u2588\u2588\u2588\u2588\u2588\u2588\u2588\u258c  | 19/25 [00:00<00:00, 138.38it/s]"
       ]
      },
      {
       "output_type": "stream",
       "stream": "stdout",
       "text": [
        "\r",
        "train_batch (2.335):  80%|\u2588\u2588\u2588\u2588\u2588\u2588\u2588\u2588  | 20/25 [00:00<00:00, 138.38it/s]"
       ]
      },
      {
       "output_type": "stream",
       "stream": "stdout",
       "text": [
        "\r",
        "train_batch (2.359):  84%|\u2588\u2588\u2588\u2588\u2588\u2588\u2588\u2588\u258d | 21/25 [00:00<00:00, 138.38it/s]"
       ]
      },
      {
       "output_type": "stream",
       "stream": "stdout",
       "text": [
        "\r",
        "train_batch (2.307):  88%|\u2588\u2588\u2588\u2588\u2588\u2588\u2588\u2588\u258a | 22/25 [00:00<00:00, 138.38it/s]"
       ]
      },
      {
       "output_type": "stream",
       "stream": "stdout",
       "text": [
        "\r",
        "train_batch (2.284):  92%|\u2588\u2588\u2588\u2588\u2588\u2588\u2588\u2588\u2588\u258f| 23/25 [00:00<00:00, 138.38it/s]"
       ]
      },
      {
       "output_type": "stream",
       "stream": "stdout",
       "text": [
        "\r",
        "train_batch (2.283):  96%|\u2588\u2588\u2588\u2588\u2588\u2588\u2588\u2588\u2588\u258c| 24/25 [00:00<00:00, 138.38it/s]"
       ]
      },
      {
       "output_type": "stream",
       "stream": "stdout",
       "text": [
        "\r",
        "train_batch (Avg. Loss 2.371, Accuracy 6.0): 100%|\u2588\u2588\u2588\u2588\u2588\u2588\u2588\u2588\u2588\u2588| 25/25 [00:00<00:00, 138.38it/s]"
       ]
      },
      {
       "output_type": "stream",
       "stream": "stdout",
       "text": [
        "\r",
        "train_batch (Avg. Loss 2.371, Accuracy 6.0): 100%|\u2588\u2588\u2588\u2588\u2588\u2588\u2588\u2588\u2588\u2588| 25/25 [00:00<00:00, 147.79it/s]"
       ]
      },
      {
       "output_type": "stream",
       "stream": "stdout",
       "text": [
        "\n"
       ]
      },
      {
       "output_type": "stream",
       "stream": "stdout",
       "text": [
        "\r",
        "train_batch:   0%|          | 0/25 [00:00<?, ?it/s]"
       ]
      },
      {
       "output_type": "stream",
       "stream": "stdout",
       "text": [
        "\r",
        "train_batch (2.321):   0%|          | 0/25 [00:00<?, ?it/s]"
       ]
      },
      {
       "output_type": "stream",
       "stream": "stdout",
       "text": [
        "\r",
        "train_batch (2.365):   4%|\u258d         | 1/25 [00:00<00:00, 78.56it/s]"
       ]
      },
      {
       "output_type": "stream",
       "stream": "stdout",
       "text": [
        "\r",
        "train_batch (2.201):   8%|\u258a         | 2/25 [00:00<00:00, 97.10it/s]"
       ]
      },
      {
       "output_type": "stream",
       "stream": "stdout",
       "text": [
        "\r",
        "train_batch (2.188):  12%|\u2588\u258f        | 3/25 [00:00<00:00, 106.17it/s]"
       ]
      },
      {
       "output_type": "stream",
       "stream": "stdout",
       "text": [
        "\r",
        "train_batch (2.465):  16%|\u2588\u258c        | 4/25 [00:00<00:00, 111.44it/s]"
       ]
      },
      {
       "output_type": "stream",
       "stream": "stdout",
       "text": [
        "\r",
        "train_batch (2.420):  20%|\u2588\u2588        | 5/25 [00:00<00:00, 111.90it/s]"
       ]
      },
      {
       "output_type": "stream",
       "stream": "stdout",
       "text": [
        "\r",
        "train_batch (2.138):  24%|\u2588\u2588\u258d       | 6/25 [00:00<00:00, 113.09it/s]"
       ]
      },
      {
       "output_type": "stream",
       "stream": "stdout",
       "text": [
        "\r",
        "train_batch (2.308):  28%|\u2588\u2588\u258a       | 7/25 [00:00<00:00, 113.46it/s]"
       ]
      },
      {
       "output_type": "stream",
       "stream": "stdout",
       "text": [
        "\r",
        "train_batch (2.133):  32%|\u2588\u2588\u2588\u258f      | 8/25 [00:00<00:00, 114.94it/s]"
       ]
      },
      {
       "output_type": "stream",
       "stream": "stdout",
       "text": [
        "\r",
        "train_batch (2.161):  36%|\u2588\u2588\u2588\u258c      | 9/25 [00:00<00:00, 116.53it/s]"
       ]
      },
      {
       "output_type": "stream",
       "stream": "stdout",
       "text": [
        "\r",
        "train_batch (2.128):  40%|\u2588\u2588\u2588\u2588      | 10/25 [00:00<00:00, 118.33it/s]"
       ]
      },
      {
       "output_type": "stream",
       "stream": "stdout",
       "text": [
        "\r",
        "train_batch (2.372):  44%|\u2588\u2588\u2588\u2588\u258d     | 11/25 [00:00<00:00, 119.50it/s]"
       ]
      },
      {
       "output_type": "stream",
       "stream": "stdout",
       "text": [
        "\r",
        "train_batch (2.143):  48%|\u2588\u2588\u2588\u2588\u258a     | 12/25 [00:00<00:00, 119.89it/s]"
       ]
      },
      {
       "output_type": "stream",
       "stream": "stdout",
       "text": [
        "\r",
        "train_batch (2.143):  52%|\u2588\u2588\u2588\u2588\u2588\u258f    | 13/25 [00:00<00:00, 128.49it/s]"
       ]
      },
      {
       "output_type": "stream",
       "stream": "stdout",
       "text": [
        "\r",
        "train_batch (2.337):  52%|\u2588\u2588\u2588\u2588\u2588\u258f    | 13/25 [00:00<00:00, 128.49it/s]"
       ]
      },
      {
       "output_type": "stream",
       "stream": "stdout",
       "text": [
        "\r",
        "train_batch (2.378):  56%|\u2588\u2588\u2588\u2588\u2588\u258c    | 14/25 [00:00<00:00, 128.49it/s]"
       ]
      },
      {
       "output_type": "stream",
       "stream": "stdout",
       "text": [
        "\r",
        "train_batch (2.311):  60%|\u2588\u2588\u2588\u2588\u2588\u2588    | 15/25 [00:00<00:00, 128.49it/s]"
       ]
      },
      {
       "output_type": "stream",
       "stream": "stdout",
       "text": [
        "\r",
        "train_batch (2.096):  64%|\u2588\u2588\u2588\u2588\u2588\u2588\u258d   | 16/25 [00:00<00:00, 128.49it/s]"
       ]
      },
      {
       "output_type": "stream",
       "stream": "stdout",
       "text": [
        "\r",
        "train_batch (2.377):  68%|\u2588\u2588\u2588\u2588\u2588\u2588\u258a   | 17/25 [00:00<00:00, 128.49it/s]"
       ]
      },
      {
       "output_type": "stream",
       "stream": "stdout",
       "text": [
        "\r",
        "train_batch (2.193):  72%|\u2588\u2588\u2588\u2588\u2588\u2588\u2588\u258f  | 18/25 [00:00<00:00, 128.49it/s]"
       ]
      },
      {
       "output_type": "stream",
       "stream": "stdout",
       "text": [
        "\r",
        "train_batch (2.006):  76%|\u2588\u2588\u2588\u2588\u2588\u2588\u2588\u258c  | 19/25 [00:00<00:00, 128.49it/s]"
       ]
      },
      {
       "output_type": "stream",
       "stream": "stdout",
       "text": [
        "\r",
        "train_batch (2.312):  80%|\u2588\u2588\u2588\u2588\u2588\u2588\u2588\u2588  | 20/25 [00:00<00:00, 128.49it/s]"
       ]
      },
      {
       "output_type": "stream",
       "stream": "stdout",
       "text": [
        "\r",
        "train_batch (2.164):  84%|\u2588\u2588\u2588\u2588\u2588\u2588\u2588\u2588\u258d | 21/25 [00:00<00:00, 128.49it/s]"
       ]
      },
      {
       "output_type": "stream",
       "stream": "stdout",
       "text": [
        "\r",
        "train_batch (2.212):  88%|\u2588\u2588\u2588\u2588\u2588\u2588\u2588\u2588\u258a | 22/25 [00:00<00:00, 128.49it/s]"
       ]
      },
      {
       "output_type": "stream",
       "stream": "stdout",
       "text": [
        "\r",
        "train_batch (2.076):  92%|\u2588\u2588\u2588\u2588\u2588\u2588\u2588\u2588\u2588\u258f| 23/25 [00:00<00:00, 128.49it/s]"
       ]
      },
      {
       "output_type": "stream",
       "stream": "stdout",
       "text": [
        "\r",
        "train_batch (2.138):  96%|\u2588\u2588\u2588\u2588\u2588\u2588\u2588\u2588\u2588\u258c| 24/25 [00:00<00:00, 128.49it/s]"
       ]
      },
      {
       "output_type": "stream",
       "stream": "stdout",
       "text": [
        "\r",
        "train_batch (2.138): 100%|\u2588\u2588\u2588\u2588\u2588\u2588\u2588\u2588\u2588\u2588| 25/25 [00:00<00:00, 125.60it/s]"
       ]
      },
      {
       "output_type": "stream",
       "stream": "stdout",
       "text": [
        "\r",
        "train_batch (Avg. Loss 2.238, Accuracy 16.0): 100%|\u2588\u2588\u2588\u2588\u2588\u2588\u2588\u2588\u2588\u2588| 25/25 [00:00<00:00, 125.60it/s]"
       ]
      },
      {
       "output_type": "stream",
       "stream": "stdout",
       "text": [
        "\n"
       ]
      },
      {
       "output_type": "stream",
       "stream": "stdout",
       "text": [
        "\r",
        "train_batch:   0%|          | 0/25 [00:00<?, ?it/s]"
       ]
      },
      {
       "output_type": "stream",
       "stream": "stdout",
       "text": [
        "\r",
        "train_batch (2.185):   0%|          | 0/25 [00:00<?, ?it/s]"
       ]
      },
      {
       "output_type": "stream",
       "stream": "stdout",
       "text": [
        "\r",
        "train_batch (2.263):   4%|\u258d         | 1/25 [00:00<00:00, 77.94it/s]"
       ]
      },
      {
       "output_type": "stream",
       "stream": "stdout",
       "text": [
        "\r",
        "train_batch (2.059):   8%|\u258a         | 2/25 [00:00<00:00, 94.20it/s]"
       ]
      },
      {
       "output_type": "stream",
       "stream": "stdout",
       "text": [
        "\r",
        "train_batch (2.067):  12%|\u2588\u258f        | 3/25 [00:00<00:00, 101.24it/s]"
       ]
      },
      {
       "output_type": "stream",
       "stream": "stdout",
       "text": [
        "\r",
        "train_batch (2.336):  16%|\u2588\u258c        | 4/25 [00:00<00:00, 105.58it/s]"
       ]
      },
      {
       "output_type": "stream",
       "stream": "stdout",
       "text": [
        "\r",
        "train_batch (2.336):  20%|\u2588\u2588        | 5/25 [00:00<00:00, 107.67it/s]"
       ]
      },
      {
       "output_type": "stream",
       "stream": "stdout",
       "text": [
        "\r",
        "train_batch (1.944):  24%|\u2588\u2588\u258d       | 6/25 [00:00<00:00, 109.88it/s]"
       ]
      },
      {
       "output_type": "stream",
       "stream": "stdout",
       "text": [
        "\r",
        "train_batch (2.190):  28%|\u2588\u2588\u258a       | 7/25 [00:00<00:00, 109.90it/s]"
       ]
      },
      {
       "output_type": "stream",
       "stream": "stdout",
       "text": [
        "\r",
        "train_batch (1.950):  32%|\u2588\u2588\u2588\u258f      | 8/25 [00:00<00:00, 110.82it/s]"
       ]
      },
      {
       "output_type": "stream",
       "stream": "stdout",
       "text": [
        "\r",
        "train_batch (1.980):  36%|\u2588\u2588\u2588\u258c      | 9/25 [00:00<00:00, 111.24it/s]"
       ]
      },
      {
       "output_type": "stream",
       "stream": "stdout",
       "text": [
        "\r",
        "train_batch (1.824):  40%|\u2588\u2588\u2588\u2588      | 10/25 [00:00<00:00, 112.01it/s]"
       ]
      },
      {
       "output_type": "stream",
       "stream": "stdout",
       "text": [
        "\r",
        "train_batch (2.319):  44%|\u2588\u2588\u2588\u2588\u258d     | 11/25 [00:00<00:00, 112.76it/s]"
       ]
      },
      {
       "output_type": "stream",
       "stream": "stdout",
       "text": [
        "\r",
        "train_batch (1.938):  48%|\u2588\u2588\u2588\u2588\u258a     | 12/25 [00:00<00:00, 113.69it/s]"
       ]
      },
      {
       "output_type": "stream",
       "stream": "stdout",
       "text": [
        "\r",
        "train_batch (1.938):  52%|\u2588\u2588\u2588\u2588\u2588\u258f    | 13/25 [00:00<00:00, 122.27it/s]"
       ]
      },
      {
       "output_type": "stream",
       "stream": "stdout",
       "text": [
        "\r",
        "train_batch (2.301):  52%|\u2588\u2588\u2588\u2588\u2588\u258f    | 13/25 [00:00<00:00, 122.27it/s]"
       ]
      },
      {
       "output_type": "stream",
       "stream": "stdout",
       "text": [
        "\r",
        "train_batch (2.352):  56%|\u2588\u2588\u2588\u2588\u2588\u258c    | 14/25 [00:00<00:00, 122.27it/s]"
       ]
      },
      {
       "output_type": "stream",
       "stream": "stdout",
       "text": [
        "\r",
        "train_batch (2.310):  60%|\u2588\u2588\u2588\u2588\u2588\u2588    | 15/25 [00:00<00:00, 122.27it/s]"
       ]
      },
      {
       "output_type": "stream",
       "stream": "stdout",
       "text": [
        "\r",
        "train_batch (2.000):  64%|\u2588\u2588\u2588\u2588\u2588\u2588\u258d   | 16/25 [00:00<00:00, 122.27it/s]"
       ]
      },
      {
       "output_type": "stream",
       "stream": "stdout",
       "text": [
        "\r",
        "train_batch (2.462):  68%|\u2588\u2588\u2588\u2588\u2588\u2588\u258a   | 17/25 [00:00<00:00, 122.27it/s]"
       ]
      },
      {
       "output_type": "stream",
       "stream": "stdout",
       "text": [
        "\r",
        "train_batch (2.198):  72%|\u2588\u2588\u2588\u2588\u2588\u2588\u2588\u258f  | 18/25 [00:00<00:00, 122.27it/s]"
       ]
      },
      {
       "output_type": "stream",
       "stream": "stdout",
       "text": [
        "\r",
        "train_batch (1.912):  76%|\u2588\u2588\u2588\u2588\u2588\u2588\u2588\u258c  | 19/25 [00:00<00:00, 122.27it/s]"
       ]
      },
      {
       "output_type": "stream",
       "stream": "stdout",
       "text": [
        "\r",
        "train_batch (2.257):  80%|\u2588\u2588\u2588\u2588\u2588\u2588\u2588\u2588  | 20/25 [00:00<00:00, 122.27it/s]"
       ]
      },
      {
       "output_type": "stream",
       "stream": "stdout",
       "text": [
        "\r",
        "train_batch (2.044):  84%|\u2588\u2588\u2588\u2588\u2588\u2588\u2588\u2588\u258d | 21/25 [00:00<00:00, 122.27it/s]"
       ]
      },
      {
       "output_type": "stream",
       "stream": "stdout",
       "text": [
        "\r",
        "train_batch (2.089):  88%|\u2588\u2588\u2588\u2588\u2588\u2588\u2588\u2588\u258a | 22/25 [00:00<00:00, 122.27it/s]"
       ]
      },
      {
       "output_type": "stream",
       "stream": "stdout",
       "text": [
        "\r",
        "train_batch (1.958):  92%|\u2588\u2588\u2588\u2588\u2588\u2588\u2588\u2588\u2588\u258f| 23/25 [00:00<00:00, 122.27it/s]"
       ]
      },
      {
       "output_type": "stream",
       "stream": "stdout",
       "text": [
        "\r",
        "train_batch (1.999):  96%|\u2588\u2588\u2588\u2588\u2588\u2588\u2588\u2588\u2588\u258c| 24/25 [00:00<00:00, 122.27it/s]"
       ]
      },
      {
       "output_type": "stream",
       "stream": "stdout",
       "text": [
        "\r",
        "train_batch (Avg. Loss 2.131, Accuracy 22.0): 100%|\u2588\u2588\u2588\u2588\u2588\u2588\u2588\u2588\u2588\u2588| 25/25 [00:00<00:00, 122.27it/s]"
       ]
      },
      {
       "output_type": "stream",
       "stream": "stdout",
       "text": [
        "\r",
        "train_batch (Avg. Loss 2.131, Accuracy 22.0): 100%|\u2588\u2588\u2588\u2588\u2588\u2588\u2588\u2588\u2588\u2588| 25/25 [00:00<00:00, 125.41it/s]"
       ]
      },
      {
       "output_type": "stream",
       "stream": "stdout",
       "text": [
        "\n"
       ]
      },
      {
       "output_type": "stream",
       "stream": "stdout",
       "text": [
        "\r",
        "train_batch:   0%|          | 0/25 [00:00<?, ?it/s]"
       ]
      },
      {
       "output_type": "stream",
       "stream": "stdout",
       "text": [
        "\r",
        "train_batch (2.096):   0%|          | 0/25 [00:00<?, ?it/s]"
       ]
      },
      {
       "output_type": "stream",
       "stream": "stdout",
       "text": [
        "\r",
        "train_batch (2.140):   4%|\u258d         | 1/25 [00:00<00:00, 88.81it/s]"
       ]
      },
      {
       "output_type": "stream",
       "stream": "stdout",
       "text": [
        "\r",
        "train_batch (1.221):   8%|\u258a         | 2/25 [00:00<00:00, 107.14it/s]"
       ]
      },
      {
       "output_type": "stream",
       "stream": "stdout",
       "text": [
        "\r",
        "train_batch (1.614):  12%|\u2588\u258f        | 3/25 [00:00<00:00, 115.51it/s]"
       ]
      },
      {
       "output_type": "stream",
       "stream": "stdout",
       "text": [
        "\r",
        "train_batch (2.667):  16%|\u2588\u258c        | 4/25 [00:00<00:00, 120.34it/s]"
       ]
      },
      {
       "output_type": "stream",
       "stream": "stdout",
       "text": [
        "\r",
        "train_batch (1.971):  20%|\u2588\u2588        | 5/25 [00:00<00:00, 123.85it/s]"
       ]
      },
      {
       "output_type": "stream",
       "stream": "stdout",
       "text": [
        "\r",
        "train_batch (1.254):  24%|\u2588\u2588\u258d       | 6/25 [00:00<00:00, 121.00it/s]"
       ]
      },
      {
       "output_type": "stream",
       "stream": "stdout",
       "text": [
        "\r",
        "train_batch (1.871):  28%|\u2588\u2588\u258a       | 7/25 [00:00<00:00, 121.33it/s]"
       ]
      },
      {
       "output_type": "stream",
       "stream": "stdout",
       "text": [
        "\r",
        "train_batch (1.622):  32%|\u2588\u2588\u2588\u258f      | 8/25 [00:00<00:00, 122.81it/s]"
       ]
      },
      {
       "output_type": "stream",
       "stream": "stdout",
       "text": [
        "\r",
        "train_batch (1.962):  36%|\u2588\u2588\u2588\u258c      | 9/25 [00:00<00:00, 123.27it/s]"
       ]
      },
      {
       "output_type": "stream",
       "stream": "stdout",
       "text": [
        "\r",
        "train_batch (1.586):  40%|\u2588\u2588\u2588\u2588      | 10/25 [00:00<00:00, 123.61it/s]"
       ]
      },
      {
       "output_type": "stream",
       "stream": "stdout",
       "text": [
        "\r",
        "train_batch (2.216):  44%|\u2588\u2588\u2588\u2588\u258d     | 11/25 [00:00<00:00, 123.85it/s]"
       ]
      },
      {
       "output_type": "stream",
       "stream": "stdout",
       "text": [
        "\r",
        "train_batch (1.841):  48%|\u2588\u2588\u2588\u2588\u258a     | 12/25 [00:00<00:00, 124.05it/s]"
       ]
      },
      {
       "output_type": "stream",
       "stream": "stdout",
       "text": [
        "\r",
        "train_batch (2.078):  52%|\u2588\u2588\u2588\u2588\u2588\u258f    | 13/25 [00:00<00:00, 124.35it/s]"
       ]
      },
      {
       "output_type": "stream",
       "stream": "stdout",
       "text": [
        "\r",
        "train_batch (2.078):  56%|\u2588\u2588\u2588\u2588\u2588\u258c    | 14/25 [00:00<00:00, 132.91it/s]"
       ]
      },
      {
       "output_type": "stream",
       "stream": "stdout",
       "text": [
        "\r",
        "train_batch (2.025):  56%|\u2588\u2588\u2588\u2588\u2588\u258c    | 14/25 [00:00<00:00, 132.91it/s]"
       ]
      },
      {
       "output_type": "stream",
       "stream": "stdout",
       "text": [
        "\r",
        "train_batch (1.916):  60%|\u2588\u2588\u2588\u2588\u2588\u2588    | 15/25 [00:00<00:00, 132.91it/s]"
       ]
      },
      {
       "output_type": "stream",
       "stream": "stdout",
       "text": [
        "\r",
        "train_batch (1.595):  64%|\u2588\u2588\u2588\u2588\u2588\u2588\u258d   | 16/25 [00:00<00:00, 132.91it/s]"
       ]
      },
      {
       "output_type": "stream",
       "stream": "stdout",
       "text": [
        "\r",
        "train_batch (2.057):  68%|\u2588\u2588\u2588\u2588\u2588\u2588\u258a   | 17/25 [00:00<00:00, 132.91it/s]"
       ]
      },
      {
       "output_type": "stream",
       "stream": "stdout",
       "text": [
        "\r",
        "train_batch (1.936):  72%|\u2588\u2588\u2588\u2588\u2588\u2588\u2588\u258f  | 18/25 [00:00<00:00, 132.91it/s]"
       ]
      },
      {
       "output_type": "stream",
       "stream": "stdout",
       "text": [
        "\r",
        "train_batch (1.082):  76%|\u2588\u2588\u2588\u2588\u2588\u2588\u2588\u258c  | 19/25 [00:00<00:00, 132.91it/s]"
       ]
      },
      {
       "output_type": "stream",
       "stream": "stdout",
       "text": [
        "\r",
        "train_batch (2.642):  80%|\u2588\u2588\u2588\u2588\u2588\u2588\u2588\u2588  | 20/25 [00:00<00:00, 132.91it/s]"
       ]
      },
      {
       "output_type": "stream",
       "stream": "stdout",
       "text": [
        "\r",
        "train_batch (1.535):  84%|\u2588\u2588\u2588\u2588\u2588\u2588\u2588\u2588\u258d | 21/25 [00:00<00:00, 132.91it/s]"
       ]
      },
      {
       "output_type": "stream",
       "stream": "stdout",
       "text": [
        "\r",
        "train_batch (2.105):  88%|\u2588\u2588\u2588\u2588\u2588\u2588\u2588\u2588\u258a | 22/25 [00:00<00:00, 132.91it/s]"
       ]
      },
      {
       "output_type": "stream",
       "stream": "stdout",
       "text": [
        "\r",
        "train_batch (1.412):  92%|\u2588\u2588\u2588\u2588\u2588\u2588\u2588\u2588\u2588\u258f| 23/25 [00:00<00:00, 132.91it/s]"
       ]
      },
      {
       "output_type": "stream",
       "stream": "stdout",
       "text": [
        "\r",
        "train_batch (1.288):  96%|\u2588\u2588\u2588\u2588\u2588\u2588\u2588\u2588\u2588\u258c| 24/25 [00:00<00:00, 132.91it/s]"
       ]
      },
      {
       "output_type": "stream",
       "stream": "stdout",
       "text": [
        "\r",
        "train_batch (Avg. Loss 1.829, Accuracy 34.0): 100%|\u2588\u2588\u2588\u2588\u2588\u2588\u2588\u2588\u2588\u2588| 25/25 [00:00<00:00, 132.91it/s]"
       ]
      },
      {
       "output_type": "stream",
       "stream": "stdout",
       "text": [
        "\r",
        "train_batch (Avg. Loss 1.829, Accuracy 34.0): 100%|\u2588\u2588\u2588\u2588\u2588\u2588\u2588\u2588\u2588\u2588| 25/25 [00:00<00:00, 126.66it/s]"
       ]
      },
      {
       "output_type": "stream",
       "stream": "stdout",
       "text": [
        "\n"
       ]
      },
      {
       "output_type": "stream",
       "stream": "stdout",
       "text": [
        "\r",
        "train_batch:   0%|          | 0/25 [00:00<?, ?it/s]"
       ]
      },
      {
       "output_type": "stream",
       "stream": "stdout",
       "text": [
        "\r",
        "train_batch (1.167):   0%|          | 0/25 [00:00<?, ?it/s]"
       ]
      },
      {
       "output_type": "stream",
       "stream": "stdout",
       "text": [
        "\r",
        "train_batch (1.703):   4%|\u258d         | 1/25 [00:00<00:00, 78.92it/s]"
       ]
      },
      {
       "output_type": "stream",
       "stream": "stdout",
       "text": [
        "\r",
        "train_batch (0.246):   8%|\u258a         | 2/25 [00:00<00:00, 96.31it/s]"
       ]
      },
      {
       "output_type": "stream",
       "stream": "stdout",
       "text": [
        "\r",
        "train_batch (0.783):  12%|\u2588\u258f        | 3/25 [00:00<00:00, 104.09it/s]"
       ]
      },
      {
       "output_type": "stream",
       "stream": "stdout",
       "text": [
        "\r",
        "train_batch (1.239):  16%|\u2588\u258c        | 4/25 [00:00<00:00, 108.85it/s]"
       ]
      },
      {
       "output_type": "stream",
       "stream": "stdout",
       "text": [
        "\r",
        "train_batch (1.076):  20%|\u2588\u2588        | 5/25 [00:00<00:00, 113.29it/s]"
       ]
      },
      {
       "output_type": "stream",
       "stream": "stdout",
       "text": [
        "\r",
        "train_batch (0.196):  24%|\u2588\u2588\u258d       | 6/25 [00:00<00:00, 116.52it/s]"
       ]
      },
      {
       "output_type": "stream",
       "stream": "stdout",
       "text": [
        "\r",
        "train_batch (0.229):  28%|\u2588\u2588\u258a       | 7/25 [00:00<00:00, 117.64it/s]"
       ]
      },
      {
       "output_type": "stream",
       "stream": "stdout",
       "text": [
        "\r",
        "train_batch (1.208):  32%|\u2588\u2588\u2588\u258f      | 8/25 [00:00<00:00, 117.83it/s]"
       ]
      },
      {
       "output_type": "stream",
       "stream": "stdout",
       "text": [
        "\r",
        "train_batch (1.885):  36%|\u2588\u2588\u2588\u258c      | 9/25 [00:00<00:00, 118.49it/s]"
       ]
      },
      {
       "output_type": "stream",
       "stream": "stdout",
       "text": [
        "\r",
        "train_batch (1.018):  40%|\u2588\u2588\u2588\u2588      | 10/25 [00:00<00:00, 119.65it/s]"
       ]
      },
      {
       "output_type": "stream",
       "stream": "stdout",
       "text": [
        "\r",
        "train_batch (2.297):  44%|\u2588\u2588\u2588\u2588\u258d     | 11/25 [00:00<00:00, 120.03it/s]"
       ]
      },
      {
       "output_type": "stream",
       "stream": "stdout",
       "text": [
        "\r",
        "train_batch (1.178):  48%|\u2588\u2588\u2588\u2588\u258a     | 12/25 [00:00<00:00, 120.56it/s]"
       ]
      },
      {
       "output_type": "stream",
       "stream": "stdout",
       "text": [
        "\r",
        "train_batch (1.178):  52%|\u2588\u2588\u2588\u2588\u2588\u258f    | 13/25 [00:00<00:00, 129.86it/s]"
       ]
      },
      {
       "output_type": "stream",
       "stream": "stdout",
       "text": [
        "\r",
        "train_batch (1.587):  52%|\u2588\u2588\u2588\u2588\u2588\u258f    | 13/25 [00:00<00:00, 129.86it/s]"
       ]
      },
      {
       "output_type": "stream",
       "stream": "stdout",
       "text": [
        "\r",
        "train_batch (1.292):  56%|\u2588\u2588\u2588\u2588\u2588\u258c    | 14/25 [00:00<00:00, 129.86it/s]"
       ]
      },
      {
       "output_type": "stream",
       "stream": "stdout",
       "text": [
        "\r",
        "train_batch (0.982):  60%|\u2588\u2588\u2588\u2588\u2588\u2588    | 15/25 [00:00<00:00, 129.86it/s]"
       ]
      },
      {
       "output_type": "stream",
       "stream": "stdout",
       "text": [
        "\r",
        "train_batch (0.779):  64%|\u2588\u2588\u2588\u2588\u2588\u2588\u258d   | 16/25 [00:00<00:00, 129.86it/s]"
       ]
      },
      {
       "output_type": "stream",
       "stream": "stdout",
       "text": [
        "\r",
        "train_batch (0.851):  68%|\u2588\u2588\u2588\u2588\u2588\u2588\u258a   | 17/25 [00:00<00:00, 129.86it/s]"
       ]
      },
      {
       "output_type": "stream",
       "stream": "stdout",
       "text": [
        "\r",
        "train_batch (2.208):  72%|\u2588\u2588\u2588\u2588\u2588\u2588\u2588\u258f  | 18/25 [00:00<00:00, 129.86it/s]"
       ]
      },
      {
       "output_type": "stream",
       "stream": "stdout",
       "text": [
        "\r",
        "train_batch (0.552):  76%|\u2588\u2588\u2588\u2588\u2588\u2588\u2588\u258c  | 19/25 [00:00<00:00, 129.86it/s]"
       ]
      },
      {
       "output_type": "stream",
       "stream": "stdout",
       "text": [
        "\r",
        "train_batch (1.081):  80%|\u2588\u2588\u2588\u2588\u2588\u2588\u2588\u2588  | 20/25 [00:00<00:00, 129.86it/s]"
       ]
      },
      {
       "output_type": "stream",
       "stream": "stdout",
       "text": [
        "\r",
        "train_batch (0.984):  84%|\u2588\u2588\u2588\u2588\u2588\u2588\u2588\u2588\u258d | 21/25 [00:00<00:00, 129.86it/s]"
       ]
      },
      {
       "output_type": "stream",
       "stream": "stdout",
       "text": [
        "\r",
        "train_batch (0.454):  88%|\u2588\u2588\u2588\u2588\u2588\u2588\u2588\u2588\u258a | 22/25 [00:00<00:00, 129.86it/s]"
       ]
      },
      {
       "output_type": "stream",
       "stream": "stdout",
       "text": [
        "\r",
        "train_batch (0.873):  92%|\u2588\u2588\u2588\u2588\u2588\u2588\u2588\u2588\u2588\u258f| 23/25 [00:00<00:00, 129.86it/s]"
       ]
      },
      {
       "output_type": "stream",
       "stream": "stdout",
       "text": [
        "\r",
        "train_batch (0.753):  96%|\u2588\u2588\u2588\u2588\u2588\u2588\u2588\u2588\u2588\u258c| 24/25 [00:00<00:00, 129.86it/s]"
       ]
      },
      {
       "output_type": "stream",
       "stream": "stdout",
       "text": [
        "\r",
        "train_batch (Avg. Loss 1.065, Accuracy 58.0): 100%|\u2588\u2588\u2588\u2588\u2588\u2588\u2588\u2588\u2588\u2588| 25/25 [00:00<00:00, 129.86it/s]"
       ]
      },
      {
       "output_type": "stream",
       "stream": "stdout",
       "text": [
        "\r",
        "train_batch (Avg. Loss 1.065, Accuracy 58.0): 100%|\u2588\u2588\u2588\u2588\u2588\u2588\u2588\u2588\u2588\u2588| 25/25 [00:00<00:00, 126.76it/s]"
       ]
      },
      {
       "output_type": "stream",
       "stream": "stdout",
       "text": [
        "\n"
       ]
      },
      {
       "output_type": "stream",
       "stream": "stdout",
       "text": [
        "\r",
        "train_batch:   0%|          | 0/25 [00:00<?, ?it/s]"
       ]
      },
      {
       "output_type": "stream",
       "stream": "stdout",
       "text": [
        "\r",
        "train_batch (1.175):   0%|          | 0/25 [00:00<?, ?it/s]"
       ]
      },
      {
       "output_type": "stream",
       "stream": "stdout",
       "text": [
        "\r",
        "train_batch (0.715):   4%|\u258d         | 1/25 [00:00<00:00, 86.77it/s]"
       ]
      },
      {
       "output_type": "stream",
       "stream": "stdout",
       "text": [
        "\r",
        "train_batch (0.036):   8%|\u258a         | 2/25 [00:00<00:00, 103.77it/s]"
       ]
      },
      {
       "output_type": "stream",
       "stream": "stdout",
       "text": [
        "\r",
        "train_batch (0.454):  12%|\u2588\u258f        | 3/25 [00:00<00:00, 113.45it/s]"
       ]
      },
      {
       "output_type": "stream",
       "stream": "stdout",
       "text": [
        "\r",
        "train_batch (1.642):  16%|\u2588\u258c        | 4/25 [00:00<00:00, 119.70it/s]"
       ]
      },
      {
       "output_type": "stream",
       "stream": "stdout",
       "text": [
        "\r",
        "train_batch (0.402):  20%|\u2588\u2588        | 5/25 [00:00<00:00, 125.83it/s]"
       ]
      },
      {
       "output_type": "stream",
       "stream": "stdout",
       "text": [
        "\r",
        "train_batch (0.513):  24%|\u2588\u2588\u258d       | 6/25 [00:00<00:00, 131.60it/s]"
       ]
      },
      {
       "output_type": "stream",
       "stream": "stdout",
       "text": [
        "\r",
        "train_batch (0.022):  28%|\u2588\u2588\u258a       | 7/25 [00:00<00:00, 129.83it/s]"
       ]
      },
      {
       "output_type": "stream",
       "stream": "stdout",
       "text": [
        "\r",
        "train_batch (1.222):  32%|\u2588\u2588\u2588\u258f      | 8/25 [00:00<00:00, 126.48it/s]"
       ]
      },
      {
       "output_type": "stream",
       "stream": "stdout",
       "text": [
        "\r",
        "train_batch (1.972):  36%|\u2588\u2588\u2588\u258c      | 9/25 [00:00<00:00, 128.67it/s]"
       ]
      },
      {
       "output_type": "stream",
       "stream": "stdout",
       "text": [
        "\r",
        "train_batch (1.058):  40%|\u2588\u2588\u2588\u2588      | 10/25 [00:00<00:00, 130.72it/s]"
       ]
      },
      {
       "output_type": "stream",
       "stream": "stdout",
       "text": [
        "\r",
        "train_batch (2.766):  44%|\u2588\u2588\u2588\u2588\u258d     | 11/25 [00:00<00:00, 133.55it/s]"
       ]
      },
      {
       "output_type": "stream",
       "stream": "stdout",
       "text": [
        "\r",
        "train_batch (1.692):  48%|\u2588\u2588\u2588\u2588\u258a     | 12/25 [00:00<00:00, 136.78it/s]"
       ]
      },
      {
       "output_type": "stream",
       "stream": "stdout",
       "text": [
        "\r",
        "train_batch (1.462):  52%|\u2588\u2588\u2588\u2588\u2588\u258f    | 13/25 [00:00<00:00, 138.74it/s]"
       ]
      },
      {
       "output_type": "stream",
       "stream": "stdout",
       "text": [
        "\r",
        "train_batch (0.894):  56%|\u2588\u2588\u2588\u2588\u2588\u258c    | 14/25 [00:00<00:00, 140.46it/s]"
       ]
      },
      {
       "output_type": "stream",
       "stream": "stdout",
       "text": [
        "\r",
        "train_batch (0.894):  60%|\u2588\u2588\u2588\u2588\u2588\u2588    | 15/25 [00:00<00:00, 149.34it/s]"
       ]
      },
      {
       "output_type": "stream",
       "stream": "stdout",
       "text": [
        "\r",
        "train_batch (0.870):  60%|\u2588\u2588\u2588\u2588\u2588\u2588    | 15/25 [00:00<00:00, 149.34it/s]"
       ]
      },
      {
       "output_type": "stream",
       "stream": "stdout",
       "text": [
        "\r",
        "train_batch (0.576):  64%|\u2588\u2588\u2588\u2588\u2588\u2588\u258d   | 16/25 [00:00<00:00, 149.34it/s]"
       ]
      },
      {
       "output_type": "stream",
       "stream": "stdout",
       "text": [
        "\r",
        "train_batch (0.792):  68%|\u2588\u2588\u2588\u2588\u2588\u2588\u258a   | 17/25 [00:00<00:00, 149.34it/s]"
       ]
      },
      {
       "output_type": "stream",
       "stream": "stdout",
       "text": [
        "\r",
        "train_batch (0.379):  72%|\u2588\u2588\u2588\u2588\u2588\u2588\u2588\u258f  | 18/25 [00:00<00:00, 149.34it/s]"
       ]
      },
      {
       "output_type": "stream",
       "stream": "stdout",
       "text": [
        "\r",
        "train_batch (0.080):  76%|\u2588\u2588\u2588\u2588\u2588\u2588\u2588\u258c  | 19/25 [00:00<00:00, 149.34it/s]"
       ]
      },
      {
       "output_type": "stream",
       "stream": "stdout",
       "text": [
        "\r",
        "train_batch (2.544):  80%|\u2588\u2588\u2588\u2588\u2588\u2588\u2588\u2588  | 20/25 [00:00<00:00, 149.34it/s]"
       ]
      },
      {
       "output_type": "stream",
       "stream": "stdout",
       "text": [
        "\r",
        "train_batch (1.154):  84%|\u2588\u2588\u2588\u2588\u2588\u2588\u2588\u2588\u258d | 21/25 [00:00<00:00, 149.34it/s]"
       ]
      },
      {
       "output_type": "stream",
       "stream": "stdout",
       "text": [
        "\r",
        "train_batch (5.054):  88%|\u2588\u2588\u2588\u2588\u2588\u2588\u2588\u2588\u258a | 22/25 [00:00<00:00, 149.34it/s]"
       ]
      },
      {
       "output_type": "stream",
       "stream": "stdout",
       "text": [
        "\r",
        "train_batch (0.912):  92%|\u2588\u2588\u2588\u2588\u2588\u2588\u2588\u2588\u2588\u258f| 23/25 [00:00<00:00, 149.34it/s]"
       ]
      },
      {
       "output_type": "stream",
       "stream": "stdout",
       "text": [
        "\r",
        "train_batch (0.338):  96%|\u2588\u2588\u2588\u2588\u2588\u2588\u2588\u2588\u2588\u258c| 24/25 [00:00<00:00, 149.34it/s]"
       ]
      },
      {
       "output_type": "stream",
       "stream": "stdout",
       "text": [
        "\r",
        "train_batch (Avg. Loss 1.149, Accuracy 56.0): 100%|\u2588\u2588\u2588\u2588\u2588\u2588\u2588\u2588\u2588\u2588| 25/25 [00:00<00:00, 149.34it/s]"
       ]
      },
      {
       "output_type": "stream",
       "stream": "stdout",
       "text": [
        "\r",
        "train_batch (Avg. Loss 1.149, Accuracy 56.0): 100%|\u2588\u2588\u2588\u2588\u2588\u2588\u2588\u2588\u2588\u2588| 25/25 [00:00<00:00, 154.93it/s]"
       ]
      },
      {
       "output_type": "stream",
       "stream": "stdout",
       "text": [
        "\n"
       ]
      },
      {
       "output_type": "stream",
       "stream": "stdout",
       "text": [
        "\r",
        "train_batch:   0%|          | 0/25 [00:00<?, ?it/s]"
       ]
      },
      {
       "output_type": "stream",
       "stream": "stdout",
       "text": [
        "\r",
        "train_batch (0.796):   0%|          | 0/25 [00:00<?, ?it/s]"
       ]
      },
      {
       "output_type": "stream",
       "stream": "stdout",
       "text": [
        "\r",
        "train_batch (3.106):   4%|\u258d         | 1/25 [00:00<00:00, 85.32it/s]"
       ]
      },
      {
       "output_type": "stream",
       "stream": "stdout",
       "text": [
        "\r",
        "train_batch (0.029):   8%|\u258a         | 2/25 [00:00<00:00, 113.90it/s]"
       ]
      },
      {
       "output_type": "stream",
       "stream": "stdout",
       "text": [
        "\r",
        "train_batch (0.742):  12%|\u2588\u258f        | 3/25 [00:00<00:00, 128.09it/s]"
       ]
      },
      {
       "output_type": "stream",
       "stream": "stdout",
       "text": [
        "\r",
        "train_batch (1.679):  16%|\u2588\u258c        | 4/25 [00:00<00:00, 134.32it/s]"
       ]
      },
      {
       "output_type": "stream",
       "stream": "stdout",
       "text": [
        "\r",
        "train_batch (0.617):  20%|\u2588\u2588        | 5/25 [00:00<00:00, 139.23it/s]"
       ]
      },
      {
       "output_type": "stream",
       "stream": "stdout",
       "text": [
        "\r",
        "train_batch (0.225):  24%|\u2588\u2588\u258d       | 6/25 [00:00<00:00, 143.97it/s]"
       ]
      },
      {
       "output_type": "stream",
       "stream": "stdout",
       "text": [
        "\r",
        "train_batch (0.227):  28%|\u2588\u2588\u258a       | 7/25 [00:00<00:00, 146.02it/s]"
       ]
      },
      {
       "output_type": "stream",
       "stream": "stdout",
       "text": [
        "\r",
        "train_batch (0.088):  32%|\u2588\u2588\u2588\u258f      | 8/25 [00:00<00:00, 146.54it/s]"
       ]
      },
      {
       "output_type": "stream",
       "stream": "stdout",
       "text": [
        "\r",
        "train_batch (0.942):  36%|\u2588\u2588\u2588\u258c      | 9/25 [00:00<00:00, 147.23it/s]"
       ]
      },
      {
       "output_type": "stream",
       "stream": "stdout",
       "text": [
        "\r",
        "train_batch (0.897):  40%|\u2588\u2588\u2588\u2588      | 10/25 [00:00<00:00, 147.84it/s]"
       ]
      },
      {
       "output_type": "stream",
       "stream": "stdout",
       "text": [
        "\r",
        "train_batch (2.484):  44%|\u2588\u2588\u2588\u2588\u258d     | 11/25 [00:00<00:00, 147.01it/s]"
       ]
      },
      {
       "output_type": "stream",
       "stream": "stdout",
       "text": [
        "\r",
        "train_batch (1.285):  48%|\u2588\u2588\u2588\u2588\u258a     | 12/25 [00:00<00:00, 147.67it/s]"
       ]
      },
      {
       "output_type": "stream",
       "stream": "stdout",
       "text": [
        "\r",
        "train_batch (0.557):  52%|\u2588\u2588\u2588\u2588\u2588\u258f    | 13/25 [00:00<00:00, 148.26it/s]"
       ]
      },
      {
       "output_type": "stream",
       "stream": "stdout",
       "text": [
        "\r",
        "train_batch (0.584):  56%|\u2588\u2588\u2588\u2588\u2588\u258c    | 14/25 [00:00<00:00, 147.48it/s]"
       ]
      },
      {
       "output_type": "stream",
       "stream": "stdout",
       "text": [
        "\r",
        "train_batch (0.838):  60%|\u2588\u2588\u2588\u2588\u2588\u2588    | 15/25 [00:00<00:00, 148.72it/s]"
       ]
      },
      {
       "output_type": "stream",
       "stream": "stdout",
       "text": [
        "\r",
        "train_batch (0.838):  64%|\u2588\u2588\u2588\u2588\u2588\u2588\u258d   | 16/25 [00:00<00:00, 157.39it/s]"
       ]
      },
      {
       "output_type": "stream",
       "stream": "stdout",
       "text": [
        "\r",
        "train_batch (0.527):  64%|\u2588\u2588\u2588\u2588\u2588\u2588\u258d   | 16/25 [00:00<00:00, 157.39it/s]"
       ]
      },
      {
       "output_type": "stream",
       "stream": "stdout",
       "text": [
        "\r",
        "train_batch (1.343):  68%|\u2588\u2588\u2588\u2588\u2588\u2588\u258a   | 17/25 [00:00<00:00, 157.39it/s]"
       ]
      },
      {
       "output_type": "stream",
       "stream": "stdout",
       "text": [
        "\r",
        "train_batch (0.456):  72%|\u2588\u2588\u2588\u2588\u2588\u2588\u2588\u258f  | 18/25 [00:00<00:00, 157.39it/s]"
       ]
      },
      {
       "output_type": "stream",
       "stream": "stdout",
       "text": [
        "\r",
        "train_batch (0.106):  76%|\u2588\u2588\u2588\u2588\u2588\u2588\u2588\u258c  | 19/25 [00:00<00:00, 157.39it/s]"
       ]
      },
      {
       "output_type": "stream",
       "stream": "stdout",
       "text": [
        "\r",
        "train_batch (0.951):  80%|\u2588\u2588\u2588\u2588\u2588\u2588\u2588\u2588  | 20/25 [00:00<00:00, 157.39it/s]"
       ]
      },
      {
       "output_type": "stream",
       "stream": "stdout",
       "text": [
        "\r",
        "train_batch (0.414):  84%|\u2588\u2588\u2588\u2588\u2588\u2588\u2588\u2588\u258d | 21/25 [00:00<00:00, 157.39it/s]"
       ]
      },
      {
       "output_type": "stream",
       "stream": "stdout",
       "text": [
        "\r",
        "train_batch (0.132):  88%|\u2588\u2588\u2588\u2588\u2588\u2588\u2588\u2588\u258a | 22/25 [00:00<00:00, 157.39it/s]"
       ]
      },
      {
       "output_type": "stream",
       "stream": "stdout",
       "text": [
        "\r",
        "train_batch (0.279):  92%|\u2588\u2588\u2588\u2588\u2588\u2588\u2588\u2588\u2588\u258f| 23/25 [00:00<00:00, 157.39it/s]"
       ]
      },
      {
       "output_type": "stream",
       "stream": "stdout",
       "text": [
        "\r",
        "train_batch (0.220):  96%|\u2588\u2588\u2588\u2588\u2588\u2588\u2588\u2588\u2588\u258c| 24/25 [00:00<00:00, 157.39it/s]"
       ]
      },
      {
       "output_type": "stream",
       "stream": "stdout",
       "text": [
        "\r",
        "train_batch (Avg. Loss 0.781, Accuracy 70.0): 100%|\u2588\u2588\u2588\u2588\u2588\u2588\u2588\u2588\u2588\u2588| 25/25 [00:00<00:00, 157.39it/s]"
       ]
      },
      {
       "output_type": "stream",
       "stream": "stdout",
       "text": [
        "\r",
        "train_batch (Avg. Loss 0.781, Accuracy 70.0): 100%|\u2588\u2588\u2588\u2588\u2588\u2588\u2588\u2588\u2588\u2588| 25/25 [00:00<00:00, 155.86it/s]"
       ]
      },
      {
       "output_type": "stream",
       "stream": "stdout",
       "text": [
        "\n"
       ]
      },
      {
       "output_type": "stream",
       "stream": "stdout",
       "text": [
        "\r",
        "train_batch:   0%|          | 0/25 [00:00<?, ?it/s]"
       ]
      },
      {
       "output_type": "stream",
       "stream": "stdout",
       "text": [
        "\r",
        "train_batch (2.103):   0%|          | 0/25 [00:00<?, ?it/s]"
       ]
      },
      {
       "output_type": "stream",
       "stream": "stdout",
       "text": [
        "\r",
        "train_batch (2.410):   4%|\u258d         | 1/25 [00:00<00:00, 39.01it/s]"
       ]
      },
      {
       "output_type": "stream",
       "stream": "stdout",
       "text": [
        "\r",
        "train_batch (0.330):   8%|\u258a         | 2/25 [00:00<00:00, 56.14it/s]"
       ]
      },
      {
       "output_type": "stream",
       "stream": "stdout",
       "text": [
        "\r",
        "train_batch (1.302):  12%|\u2588\u258f        | 3/25 [00:00<00:00, 67.80it/s]"
       ]
      },
      {
       "output_type": "stream",
       "stream": "stdout",
       "text": [
        "\r",
        "train_batch (0.004):  16%|\u2588\u258c        | 4/25 [00:00<00:00, 78.16it/s]"
       ]
      },
      {
       "output_type": "stream",
       "stream": "stdout",
       "text": [
        "\r",
        "train_batch (2.057):  20%|\u2588\u2588        | 5/25 [00:00<00:00, 84.88it/s]"
       ]
      },
      {
       "output_type": "stream",
       "stream": "stdout",
       "text": [
        "\r",
        "train_batch (0.379):  24%|\u2588\u2588\u258d       | 6/25 [00:00<00:00, 89.98it/s]"
       ]
      },
      {
       "output_type": "stream",
       "stream": "stdout",
       "text": [
        "\r",
        "train_batch (0.048):  28%|\u2588\u2588\u258a       | 7/25 [00:00<00:00, 94.70it/s]"
       ]
      },
      {
       "output_type": "stream",
       "stream": "stdout",
       "text": [
        "\r",
        "train_batch (0.672):  32%|\u2588\u2588\u2588\u258f      | 8/25 [00:00<00:00, 98.30it/s]"
       ]
      },
      {
       "output_type": "stream",
       "stream": "stdout",
       "text": [
        "\r",
        "train_batch (0.169):  36%|\u2588\u2588\u2588\u258c      | 9/25 [00:00<00:00, 100.99it/s]"
       ]
      },
      {
       "output_type": "stream",
       "stream": "stdout",
       "text": [
        "\r",
        "train_batch (7.172):  40%|\u2588\u2588\u2588\u2588      | 10/25 [00:00<00:00, 93.66it/s]"
       ]
      },
      {
       "output_type": "stream",
       "stream": "stdout",
       "text": [
        "\r",
        "train_batch (7.172):  44%|\u2588\u2588\u2588\u2588\u258d     | 11/25 [00:00<00:00, 102.17it/s]"
       ]
      },
      {
       "output_type": "stream",
       "stream": "stdout",
       "text": [
        "\r",
        "train_batch (0.654):  44%|\u2588\u2588\u2588\u2588\u258d     | 11/25 [00:00<00:00, 102.17it/s]"
       ]
      },
      {
       "output_type": "stream",
       "stream": "stdout",
       "text": [
        "\r",
        "train_batch (0.582):  48%|\u2588\u2588\u2588\u2588\u258a     | 12/25 [00:00<00:00, 102.17it/s]"
       ]
      },
      {
       "output_type": "stream",
       "stream": "stdout",
       "text": [
        "\r",
        "train_batch (1.329):  52%|\u2588\u2588\u2588\u2588\u2588\u258f    | 13/25 [00:00<00:00, 102.17it/s]"
       ]
      },
      {
       "output_type": "stream",
       "stream": "stdout",
       "text": [
        "\r",
        "train_batch (0.097):  56%|\u2588\u2588\u2588\u2588\u2588\u258c    | 14/25 [00:00<00:00, 102.17it/s]"
       ]
      },
      {
       "output_type": "stream",
       "stream": "stdout",
       "text": [
        "\r",
        "train_batch (0.511):  60%|\u2588\u2588\u2588\u2588\u2588\u2588    | 15/25 [00:00<00:00, 102.17it/s]"
       ]
      },
      {
       "output_type": "stream",
       "stream": "stdout",
       "text": [
        "\r",
        "train_batch (0.472):  64%|\u2588\u2588\u2588\u2588\u2588\u2588\u258d   | 16/25 [00:00<00:00, 102.17it/s]"
       ]
      },
      {
       "output_type": "stream",
       "stream": "stdout",
       "text": [
        "\r",
        "train_batch (2.864):  68%|\u2588\u2588\u2588\u2588\u2588\u2588\u258a   | 17/25 [00:00<00:00, 102.17it/s]"
       ]
      },
      {
       "output_type": "stream",
       "stream": "stdout",
       "text": [
        "\r",
        "train_batch (2.864):  72%|\u2588\u2588\u2588\u2588\u2588\u2588\u2588\u258f  | 18/25 [00:00<00:00, 89.21it/s] "
       ]
      },
      {
       "output_type": "stream",
       "stream": "stdout",
       "text": [
        "\r",
        "train_batch (0.151):  72%|\u2588\u2588\u2588\u2588\u2588\u2588\u2588\u258f  | 18/25 [00:00<00:00, 89.21it/s]"
       ]
      },
      {
       "output_type": "stream",
       "stream": "stdout",
       "text": [
        "\r",
        "train_batch (0.092):  76%|\u2588\u2588\u2588\u2588\u2588\u2588\u2588\u258c  | 19/25 [00:00<00:00, 89.21it/s]"
       ]
      },
      {
       "output_type": "stream",
       "stream": "stdout",
       "text": [
        "\r",
        "train_batch (0.085):  80%|\u2588\u2588\u2588\u2588\u2588\u2588\u2588\u2588  | 20/25 [00:00<00:00, 89.21it/s]"
       ]
      },
      {
       "output_type": "stream",
       "stream": "stdout",
       "text": [
        "\r",
        "train_batch (0.376):  84%|\u2588\u2588\u2588\u2588\u2588\u2588\u2588\u2588\u258d | 21/25 [00:00<00:00, 89.21it/s]"
       ]
      },
      {
       "output_type": "stream",
       "stream": "stdout",
       "text": [
        "\r",
        "train_batch (0.270):  88%|\u2588\u2588\u2588\u2588\u2588\u2588\u2588\u2588\u258a | 22/25 [00:00<00:00, 89.21it/s]"
       ]
      },
      {
       "output_type": "stream",
       "stream": "stdout",
       "text": [
        "\r",
        "train_batch (0.098):  92%|\u2588\u2588\u2588\u2588\u2588\u2588\u2588\u2588\u2588\u258f| 23/25 [00:00<00:00, 89.21it/s]"
       ]
      },
      {
       "output_type": "stream",
       "stream": "stdout",
       "text": [
        "\r",
        "train_batch (0.160):  96%|\u2588\u2588\u2588\u2588\u2588\u2588\u2588\u2588\u2588\u258c| 24/25 [00:00<00:00, 89.21it/s]"
       ]
      },
      {
       "output_type": "stream",
       "stream": "stdout",
       "text": [
        "\r",
        "train_batch (Avg. Loss 0.975, Accuracy 78.0): 100%|\u2588\u2588\u2588\u2588\u2588\u2588\u2588\u2588\u2588\u2588| 25/25 [00:00<00:00, 89.21it/s]"
       ]
      },
      {
       "output_type": "stream",
       "stream": "stdout",
       "text": [
        "\r",
        "train_batch (Avg. Loss 0.975, Accuracy 78.0): 100%|\u2588\u2588\u2588\u2588\u2588\u2588\u2588\u2588\u2588\u2588| 25/25 [00:00<00:00, 92.44it/s]"
       ]
      },
      {
       "output_type": "stream",
       "stream": "stdout",
       "text": [
        "\n"
       ]
      },
      {
       "output_type": "stream",
       "stream": "stdout",
       "text": [
        "\r",
        "train_batch:   0%|          | 0/25 [00:00<?, ?it/s]"
       ]
      },
      {
       "output_type": "stream",
       "stream": "stdout",
       "text": [
        "\r",
        "train_batch (0.422):   0%|          | 0/25 [00:00<?, ?it/s]"
       ]
      },
      {
       "output_type": "stream",
       "stream": "stdout",
       "text": [
        "\r",
        "train_batch (0.817):   4%|\u258d         | 1/25 [00:00<00:00, 49.59it/s]"
       ]
      },
      {
       "output_type": "stream",
       "stream": "stdout",
       "text": [
        "\r",
        "train_batch (0.252):   8%|\u258a         | 2/25 [00:00<00:00, 66.92it/s]"
       ]
      },
      {
       "output_type": "stream",
       "stream": "stdout",
       "text": [
        "\r",
        "train_batch (0.275):  12%|\u2588\u258f        | 3/25 [00:00<00:00, 76.12it/s]"
       ]
      },
      {
       "output_type": "stream",
       "stream": "stdout",
       "text": [
        "\r",
        "train_batch (0.039):  16%|\u2588\u258c        | 4/25 [00:00<00:00, 80.30it/s]"
       ]
      },
      {
       "output_type": "stream",
       "stream": "stdout",
       "text": [
        "\r",
        "train_batch (0.249):  20%|\u2588\u2588        | 5/25 [00:00<00:00, 83.34it/s]"
       ]
      },
      {
       "output_type": "stream",
       "stream": "stdout",
       "text": [
        "\r",
        "train_batch (0.324):  24%|\u2588\u2588\u258d       | 6/25 [00:00<00:00, 85.41it/s]"
       ]
      },
      {
       "output_type": "stream",
       "stream": "stdout",
       "text": [
        "\r",
        "train_batch (0.118):  28%|\u2588\u2588\u258a       | 7/25 [00:00<00:00, 86.99it/s]"
       ]
      },
      {
       "output_type": "stream",
       "stream": "stdout",
       "text": [
        "\r",
        "train_batch (0.207):  32%|\u2588\u2588\u2588\u258f      | 8/25 [00:00<00:00, 89.19it/s]"
       ]
      },
      {
       "output_type": "stream",
       "stream": "stdout",
       "text": [
        "\r",
        "train_batch (0.239):  36%|\u2588\u2588\u2588\u258c      | 9/25 [00:00<00:00, 91.54it/s]"
       ]
      },
      {
       "output_type": "stream",
       "stream": "stdout",
       "text": [
        "\r",
        "train_batch (1.057):  40%|\u2588\u2588\u2588\u2588      | 10/25 [00:00<00:00, 91.69it/s]"
       ]
      },
      {
       "output_type": "stream",
       "stream": "stdout",
       "text": [
        "\r",
        "train_batch (1.057):  44%|\u2588\u2588\u2588\u2588\u258d     | 11/25 [00:00<00:00, 100.00it/s]"
       ]
      },
      {
       "output_type": "stream",
       "stream": "stdout",
       "text": [
        "\r",
        "train_batch (0.541):  44%|\u2588\u2588\u2588\u2588\u258d     | 11/25 [00:00<00:00, 100.00it/s]"
       ]
      },
      {
       "output_type": "stream",
       "stream": "stdout",
       "text": [
        "\r",
        "train_batch (0.239):  48%|\u2588\u2588\u2588\u2588\u258a     | 12/25 [00:00<00:00, 100.00it/s]"
       ]
      },
      {
       "output_type": "stream",
       "stream": "stdout",
       "text": [
        "\r",
        "train_batch (0.972):  52%|\u2588\u2588\u2588\u2588\u2588\u258f    | 13/25 [00:00<00:00, 100.00it/s]"
       ]
      },
      {
       "output_type": "stream",
       "stream": "stdout",
       "text": [
        "\r",
        "train_batch (0.072):  56%|\u2588\u2588\u2588\u2588\u2588\u258c    | 14/25 [00:00<00:00, 100.00it/s]"
       ]
      },
      {
       "output_type": "stream",
       "stream": "stdout",
       "text": [
        "\r",
        "train_batch (0.128):  60%|\u2588\u2588\u2588\u2588\u2588\u2588    | 15/25 [00:00<00:00, 100.00it/s]"
       ]
      },
      {
       "output_type": "stream",
       "stream": "stdout",
       "text": [
        "\r",
        "train_batch (0.021):  64%|\u2588\u2588\u2588\u2588\u2588\u2588\u258d   | 16/25 [00:00<00:00, 100.00it/s]"
       ]
      },
      {
       "output_type": "stream",
       "stream": "stdout",
       "text": [
        "\r",
        "train_batch (0.044):  68%|\u2588\u2588\u2588\u2588\u2588\u2588\u258a   | 17/25 [00:00<00:00, 100.00it/s]"
       ]
      },
      {
       "output_type": "stream",
       "stream": "stdout",
       "text": [
        "\r",
        "train_batch (2.460):  72%|\u2588\u2588\u2588\u2588\u2588\u2588\u2588\u258f  | 18/25 [00:00<00:00, 100.00it/s]"
       ]
      },
      {
       "output_type": "stream",
       "stream": "stdout",
       "text": [
        "\r",
        "train_batch (0.083):  76%|\u2588\u2588\u2588\u2588\u2588\u2588\u2588\u258c  | 19/25 [00:00<00:00, 100.00it/s]"
       ]
      },
      {
       "output_type": "stream",
       "stream": "stdout",
       "text": [
        "\r",
        "train_batch (0.004):  80%|\u2588\u2588\u2588\u2588\u2588\u2588\u2588\u2588  | 20/25 [00:00<00:00, 100.00it/s]"
       ]
      },
      {
       "output_type": "stream",
       "stream": "stdout",
       "text": [
        "\r",
        "train_batch (0.004):  84%|\u2588\u2588\u2588\u2588\u2588\u2588\u2588\u2588\u258d | 21/25 [00:00<00:00, 98.33it/s] "
       ]
      },
      {
       "output_type": "stream",
       "stream": "stdout",
       "text": [
        "\r",
        "train_batch (0.658):  84%|\u2588\u2588\u2588\u2588\u2588\u2588\u2588\u2588\u258d | 21/25 [00:00<00:00, 98.33it/s]"
       ]
      },
      {
       "output_type": "stream",
       "stream": "stdout",
       "text": [
        "\r",
        "train_batch (0.000):  88%|\u2588\u2588\u2588\u2588\u2588\u2588\u2588\u2588\u258a | 22/25 [00:00<00:00, 98.33it/s]"
       ]
      },
      {
       "output_type": "stream",
       "stream": "stdout",
       "text": [
        "\r",
        "train_batch (0.001):  92%|\u2588\u2588\u2588\u2588\u2588\u2588\u2588\u2588\u2588\u258f| 23/25 [00:00<00:00, 98.33it/s]"
       ]
      },
      {
       "output_type": "stream",
       "stream": "stdout",
       "text": [
        "\r",
        "train_batch (0.247):  96%|\u2588\u2588\u2588\u2588\u2588\u2588\u2588\u2588\u2588\u258c| 24/25 [00:00<00:00, 98.33it/s]"
       ]
      },
      {
       "output_type": "stream",
       "stream": "stdout",
       "text": [
        "\r",
        "train_batch (Avg. Loss 0.379, Accuracy 88.0): 100%|\u2588\u2588\u2588\u2588\u2588\u2588\u2588\u2588\u2588\u2588| 25/25 [00:00<00:00, 98.33it/s]"
       ]
      },
      {
       "output_type": "stream",
       "stream": "stdout",
       "text": [
        "\r",
        "train_batch (Avg. Loss 0.379, Accuracy 88.0): 100%|\u2588\u2588\u2588\u2588\u2588\u2588\u2588\u2588\u2588\u2588| 25/25 [00:00<00:00, 100.91it/s]"
       ]
      },
      {
       "output_type": "stream",
       "stream": "stdout",
       "text": [
        "\n"
       ]
      },
      {
       "output_type": "stream",
       "stream": "stdout",
       "text": [
        "\r",
        "train_batch:   0%|          | 0/25 [00:00<?, ?it/s]"
       ]
      },
      {
       "output_type": "stream",
       "stream": "stdout",
       "text": [
        "\r",
        "train_batch (0.025):   0%|          | 0/25 [00:00<?, ?it/s]"
       ]
      },
      {
       "output_type": "stream",
       "stream": "stdout",
       "text": [
        "\r",
        "train_batch (0.001):   4%|\u258d         | 1/25 [00:00<00:00, 30.40it/s]"
       ]
      },
      {
       "output_type": "stream",
       "stream": "stdout",
       "text": [
        "\r",
        "train_batch (0.062):   8%|\u258a         | 2/25 [00:00<00:00, 42.78it/s]"
       ]
      },
      {
       "output_type": "stream",
       "stream": "stdout",
       "text": [
        "\r",
        "train_batch (0.007):  12%|\u2588\u258f        | 3/25 [00:00<00:00, 51.27it/s]"
       ]
      },
      {
       "output_type": "stream",
       "stream": "stdout",
       "text": [
        "\r",
        "train_batch (0.002):  16%|\u2588\u258c        | 4/25 [00:00<00:00, 57.33it/s]"
       ]
      },
      {
       "output_type": "stream",
       "stream": "stdout",
       "text": [
        "\r",
        "train_batch (0.017):  20%|\u2588\u2588        | 5/25 [00:00<00:00, 61.10it/s]"
       ]
      },
      {
       "output_type": "stream",
       "stream": "stdout",
       "text": [
        "\r",
        "train_batch (0.000):  24%|\u2588\u2588\u258d       | 6/25 [00:00<00:00, 64.41it/s]"
       ]
      },
      {
       "output_type": "stream",
       "stream": "stdout",
       "text": [
        "\r",
        "train_batch (0.004):  28%|\u2588\u2588\u258a       | 7/25 [00:00<00:00, 66.90it/s]"
       ]
      },
      {
       "output_type": "stream",
       "stream": "stdout",
       "text": [
        "\r",
        "train_batch (0.004):  32%|\u2588\u2588\u2588\u258f      | 8/25 [00:00<00:00, 75.82it/s]"
       ]
      },
      {
       "output_type": "stream",
       "stream": "stdout",
       "text": [
        "\r",
        "train_batch (0.003):  32%|\u2588\u2588\u2588\u258f      | 8/25 [00:00<00:00, 75.82it/s]"
       ]
      },
      {
       "output_type": "stream",
       "stream": "stdout",
       "text": [
        "\r",
        "train_batch (1.677):  36%|\u2588\u2588\u2588\u258c      | 9/25 [00:00<00:00, 75.82it/s]"
       ]
      },
      {
       "output_type": "stream",
       "stream": "stdout",
       "text": [
        "\r",
        "train_batch (0.037):  40%|\u2588\u2588\u2588\u2588      | 10/25 [00:00<00:00, 75.82it/s]"
       ]
      },
      {
       "output_type": "stream",
       "stream": "stdout",
       "text": [
        "\r",
        "train_batch (0.031):  44%|\u2588\u2588\u2588\u2588\u258d     | 11/25 [00:00<00:00, 75.82it/s]"
       ]
      },
      {
       "output_type": "stream",
       "stream": "stdout",
       "text": [
        "\r",
        "train_batch (0.006):  48%|\u2588\u2588\u2588\u2588\u258a     | 12/25 [00:00<00:00, 75.82it/s]"
       ]
      },
      {
       "output_type": "stream",
       "stream": "stdout",
       "text": [
        "\r",
        "train_batch (0.061):  52%|\u2588\u2588\u2588\u2588\u2588\u258f    | 13/25 [00:00<00:00, 75.82it/s]"
       ]
      },
      {
       "output_type": "stream",
       "stream": "stdout",
       "text": [
        "\r",
        "train_batch (0.005):  56%|\u2588\u2588\u2588\u2588\u2588\u258c    | 14/25 [00:00<00:00, 75.82it/s]"
       ]
      },
      {
       "output_type": "stream",
       "stream": "stdout",
       "text": [
        "\r",
        "train_batch (0.035):  60%|\u2588\u2588\u2588\u2588\u2588\u2588    | 15/25 [00:00<00:00, 75.82it/s]"
       ]
      },
      {
       "output_type": "stream",
       "stream": "stdout",
       "text": [
        "\r",
        "train_batch (0.009):  64%|\u2588\u2588\u2588\u2588\u2588\u2588\u258d   | 16/25 [00:00<00:00, 75.82it/s]"
       ]
      },
      {
       "output_type": "stream",
       "stream": "stdout",
       "text": [
        "\r",
        "train_batch (0.009):  68%|\u2588\u2588\u2588\u2588\u2588\u2588\u258a   | 17/25 [00:00<00:00, 76.15it/s]"
       ]
      },
      {
       "output_type": "stream",
       "stream": "stdout",
       "text": [
        "\r",
        "train_batch (1.255):  68%|\u2588\u2588\u2588\u2588\u2588\u2588\u258a   | 17/25 [00:00<00:00, 76.15it/s]"
       ]
      },
      {
       "output_type": "stream",
       "stream": "stdout",
       "text": [
        "\r",
        "train_batch (0.381):  72%|\u2588\u2588\u2588\u2588\u2588\u2588\u2588\u258f  | 18/25 [00:00<00:00, 76.15it/s]"
       ]
      },
      {
       "output_type": "stream",
       "stream": "stdout",
       "text": [
        "\r",
        "train_batch (0.241):  76%|\u2588\u2588\u2588\u2588\u2588\u2588\u2588\u258c  | 19/25 [00:00<00:00, 76.15it/s]"
       ]
      },
      {
       "output_type": "stream",
       "stream": "stdout",
       "text": [
        "\r",
        "train_batch (0.102):  80%|\u2588\u2588\u2588\u2588\u2588\u2588\u2588\u2588  | 20/25 [00:00<00:00, 76.15it/s]"
       ]
      },
      {
       "output_type": "stream",
       "stream": "stdout",
       "text": [
        "\r",
        "train_batch (0.281):  84%|\u2588\u2588\u2588\u2588\u2588\u2588\u2588\u2588\u258d | 21/25 [00:00<00:00, 76.15it/s]"
       ]
      },
      {
       "output_type": "stream",
       "stream": "stdout",
       "text": [
        "\r",
        "train_batch (3.567):  88%|\u2588\u2588\u2588\u2588\u2588\u2588\u2588\u2588\u258a | 22/25 [00:00<00:00, 76.15it/s]"
       ]
      },
      {
       "output_type": "stream",
       "stream": "stdout",
       "text": [
        "\r",
        "train_batch (3.567):  92%|\u2588\u2588\u2588\u2588\u2588\u2588\u2588\u2588\u2588\u258f| 23/25 [00:00<00:00, 67.78it/s]"
       ]
      },
      {
       "output_type": "stream",
       "stream": "stdout",
       "text": [
        "\r",
        "train_batch (0.122):  92%|\u2588\u2588\u2588\u2588\u2588\u2588\u2588\u2588\u2588\u258f| 23/25 [00:00<00:00, 67.78it/s]"
       ]
      },
      {
       "output_type": "stream",
       "stream": "stdout",
       "text": [
        "\r",
        "train_batch (0.904):  96%|\u2588\u2588\u2588\u2588\u2588\u2588\u2588\u2588\u2588\u258c| 24/25 [00:00<00:00, 67.78it/s]"
       ]
      },
      {
       "output_type": "stream",
       "stream": "stdout",
       "text": [
        "\r",
        "train_batch (Avg. Loss 0.353, Accuracy 88.0): 100%|\u2588\u2588\u2588\u2588\u2588\u2588\u2588\u2588\u2588\u2588| 25/25 [00:00<00:00, 67.78it/s]"
       ]
      },
      {
       "output_type": "stream",
       "stream": "stdout",
       "text": [
        "\r",
        "train_batch (Avg. Loss 0.353, Accuracy 88.0): 100%|\u2588\u2588\u2588\u2588\u2588\u2588\u2588\u2588\u2588\u2588| 25/25 [00:00<00:00, 67.38it/s]"
       ]
      },
      {
       "output_type": "stream",
       "stream": "stdout",
       "text": [
        "\n"
       ]
      },
      {
       "output_type": "stream",
       "stream": "stdout",
       "text": [
        "\r",
        "train_batch:   0%|          | 0/25 [00:00<?, ?it/s]"
       ]
      },
      {
       "output_type": "stream",
       "stream": "stdout",
       "text": [
        "\r",
        "train_batch (0.287):   0%|          | 0/25 [00:00<?, ?it/s]"
       ]
      },
      {
       "output_type": "stream",
       "stream": "stdout",
       "text": [
        "\r",
        "train_batch (0.048):   4%|\u258d         | 1/25 [00:00<00:00, 27.06it/s]"
       ]
      },
      {
       "output_type": "stream",
       "stream": "stdout",
       "text": [
        "\r",
        "train_batch (0.001):   8%|\u258a         | 2/25 [00:00<00:00, 36.33it/s]"
       ]
      },
      {
       "output_type": "stream",
       "stream": "stdout",
       "text": [
        "\r",
        "train_batch (0.141):  12%|\u2588\u258f        | 3/25 [00:00<00:00, 41.38it/s]"
       ]
      },
      {
       "output_type": "stream",
       "stream": "stdout",
       "text": [
        "\r",
        "train_batch (3.894):  16%|\u2588\u258c        | 4/25 [00:00<00:00, 44.96it/s]"
       ]
      },
      {
       "output_type": "stream",
       "stream": "stdout",
       "text": [
        "\r",
        "train_batch (0.440):  20%|\u2588\u2588        | 5/25 [00:00<00:00, 49.47it/s]"
       ]
      },
      {
       "output_type": "stream",
       "stream": "stdout",
       "text": [
        "\r",
        "train_batch (0.440):  24%|\u2588\u2588\u258d       | 6/25 [00:00<00:00, 58.97it/s]"
       ]
      },
      {
       "output_type": "stream",
       "stream": "stdout",
       "text": [
        "\r",
        "train_batch (1.197):  24%|\u2588\u2588\u258d       | 6/25 [00:00<00:00, 58.97it/s]"
       ]
      },
      {
       "output_type": "stream",
       "stream": "stdout",
       "text": [
        "\r",
        "train_batch (0.016):  28%|\u2588\u2588\u258a       | 7/25 [00:00<00:00, 58.97it/s]"
       ]
      },
      {
       "output_type": "stream",
       "stream": "stdout",
       "text": [
        "\r",
        "train_batch (0.107):  32%|\u2588\u2588\u2588\u258f      | 8/25 [00:00<00:00, 58.97it/s]"
       ]
      },
      {
       "output_type": "stream",
       "stream": "stdout",
       "text": [
        "\r",
        "train_batch (0.640):  36%|\u2588\u2588\u2588\u258c      | 9/25 [00:00<00:00, 58.97it/s]"
       ]
      },
      {
       "output_type": "stream",
       "stream": "stdout",
       "text": [
        "\r",
        "train_batch (0.632):  40%|\u2588\u2588\u2588\u2588      | 10/25 [00:00<00:00, 58.97it/s]"
       ]
      },
      {
       "output_type": "stream",
       "stream": "stdout",
       "text": [
        "\r",
        "train_batch (1.180):  44%|\u2588\u2588\u2588\u2588\u258d     | 11/25 [00:00<00:00, 58.97it/s]"
       ]
      },
      {
       "output_type": "stream",
       "stream": "stdout",
       "text": [
        "\r",
        "train_batch (1.703):  48%|\u2588\u2588\u2588\u2588\u258a     | 12/25 [00:00<00:00, 58.97it/s]"
       ]
      },
      {
       "output_type": "stream",
       "stream": "stdout",
       "text": [
        "\r",
        "train_batch (0.047):  52%|\u2588\u2588\u2588\u2588\u2588\u258f    | 13/25 [00:00<00:00, 58.97it/s]"
       ]
      },
      {
       "output_type": "stream",
       "stream": "stdout",
       "text": [
        "\r",
        "train_batch (0.117):  56%|\u2588\u2588\u2588\u2588\u2588\u258c    | 14/25 [00:00<00:00, 58.97it/s]"
       ]
      },
      {
       "output_type": "stream",
       "stream": "stdout",
       "text": [
        "\r",
        "train_batch (0.247):  60%|\u2588\u2588\u2588\u2588\u2588\u2588    | 15/25 [00:00<00:00, 58.97it/s]"
       ]
      },
      {
       "output_type": "stream",
       "stream": "stdout",
       "text": [
        "\r",
        "train_batch (0.011):  64%|\u2588\u2588\u2588\u2588\u2588\u2588\u258d   | 16/25 [00:00<00:00, 58.97it/s]"
       ]
      },
      {
       "output_type": "stream",
       "stream": "stdout",
       "text": [
        "\r",
        "train_batch (0.011):  68%|\u2588\u2588\u2588\u2588\u2588\u2588\u258a   | 17/25 [00:00<00:00, 67.68it/s]"
       ]
      },
      {
       "output_type": "stream",
       "stream": "stdout",
       "text": [
        "\r",
        "train_batch (0.740):  68%|\u2588\u2588\u2588\u2588\u2588\u2588\u258a   | 17/25 [00:00<00:00, 67.68it/s]"
       ]
      },
      {
       "output_type": "stream",
       "stream": "stdout",
       "text": [
        "\r",
        "train_batch (0.267):  72%|\u2588\u2588\u2588\u2588\u2588\u2588\u2588\u258f  | 18/25 [00:00<00:00, 67.68it/s]"
       ]
      },
      {
       "output_type": "stream",
       "stream": "stdout",
       "text": [
        "\r",
        "train_batch (0.015):  76%|\u2588\u2588\u2588\u2588\u2588\u2588\u2588\u258c  | 19/25 [00:00<00:00, 67.68it/s]"
       ]
      },
      {
       "output_type": "stream",
       "stream": "stdout",
       "text": [
        "\r",
        "train_batch (0.003):  80%|\u2588\u2588\u2588\u2588\u2588\u2588\u2588\u2588  | 20/25 [00:00<00:00, 67.68it/s]"
       ]
      },
      {
       "output_type": "stream",
       "stream": "stdout",
       "text": [
        "\r",
        "train_batch (0.120):  84%|\u2588\u2588\u2588\u2588\u2588\u2588\u2588\u2588\u258d | 21/25 [00:00<00:00, 67.68it/s]"
       ]
      },
      {
       "output_type": "stream",
       "stream": "stdout",
       "text": [
        "\r",
        "train_batch (0.000):  88%|\u2588\u2588\u2588\u2588\u2588\u2588\u2588\u2588\u258a | 22/25 [00:00<00:00, 67.68it/s]"
       ]
      },
      {
       "output_type": "stream",
       "stream": "stdout",
       "text": [
        "\r",
        "train_batch (0.000):  92%|\u2588\u2588\u2588\u2588\u2588\u2588\u2588\u2588\u2588\u258f| 23/25 [00:00<00:00, 67.68it/s]"
       ]
      },
      {
       "output_type": "stream",
       "stream": "stdout",
       "text": [
        "\r",
        "train_batch (0.035):  96%|\u2588\u2588\u2588\u2588\u2588\u2588\u2588\u2588\u2588\u258c| 24/25 [00:00<00:00, 67.68it/s]"
       ]
      },
      {
       "output_type": "stream",
       "stream": "stdout",
       "text": [
        "\r",
        "train_batch (Avg. Loss 0.475, Accuracy 92.0): 100%|\u2588\u2588\u2588\u2588\u2588\u2588\u2588\u2588\u2588\u2588| 25/25 [00:00<00:00, 67.68it/s]"
       ]
      },
      {
       "output_type": "stream",
       "stream": "stdout",
       "text": [
        "\r",
        "train_batch (Avg. Loss 0.475, Accuracy 92.0): 100%|\u2588\u2588\u2588\u2588\u2588\u2588\u2588\u2588\u2588\u2588| 25/25 [00:00<00:00, 88.80it/s]"
       ]
      },
      {
       "output_type": "stream",
       "stream": "stdout",
       "text": [
        "\n"
       ]
      },
      {
       "ename": "AssertionError",
       "evalue": "94.0 not greater than or equal to 95",
       "output_type": "pyerr",
       "traceback": [
        "\u001b[0;31m---------------------------------------------------------------------------\u001b[0m",
        "\u001b[0;31mAssertionError\u001b[0m                            Traceback (most recent call last)",
        "\u001b[0;32m<ipython-input-5-a83f9a7e7819>\u001b[0m in \u001b[0;36m<module>\u001b[0;34m\u001b[0m\n\u001b[1;32m     20\u001b[0m \u001b[0;34m\u001b[0m\u001b[0m\n\u001b[1;32m     21\u001b[0m \u001b[0;31m# Test overfitting\u001b[0m\u001b[0;34m\u001b[0m\u001b[0;34m\u001b[0m\u001b[0;34m\u001b[0m\u001b[0m\n\u001b[0;32m---> 22\u001b[0;31m \u001b[0mtest\u001b[0m\u001b[0;34m.\u001b[0m\u001b[0massertGreaterEqual\u001b[0m\u001b[0;34m(\u001b[0m\u001b[0mbest_acc\u001b[0m\u001b[0;34m,\u001b[0m \u001b[0;36m95\u001b[0m\u001b[0;34m)\u001b[0m\u001b[0;34m\u001b[0m\u001b[0;34m\u001b[0m\u001b[0m\n\u001b[0m",
        "\u001b[0;32m~/anaconda3/envs/cs236605-hw/lib/python3.7/unittest/case.py\u001b[0m in \u001b[0;36massertGreaterEqual\u001b[0;34m(self, a, b, msg)\u001b[0m\n\u001b[1;32m   1242\u001b[0m         \u001b[0;32mif\u001b[0m \u001b[0;32mnot\u001b[0m \u001b[0ma\u001b[0m \u001b[0;34m>=\u001b[0m \u001b[0mb\u001b[0m\u001b[0;34m:\u001b[0m\u001b[0;34m\u001b[0m\u001b[0;34m\u001b[0m\u001b[0m\n\u001b[1;32m   1243\u001b[0m             \u001b[0mstandardMsg\u001b[0m \u001b[0;34m=\u001b[0m \u001b[0;34m'%s not greater than or equal to %s'\u001b[0m \u001b[0;34m%\u001b[0m \u001b[0;34m(\u001b[0m\u001b[0msafe_repr\u001b[0m\u001b[0;34m(\u001b[0m\u001b[0ma\u001b[0m\u001b[0;34m)\u001b[0m\u001b[0;34m,\u001b[0m \u001b[0msafe_repr\u001b[0m\u001b[0;34m(\u001b[0m\u001b[0mb\u001b[0m\u001b[0;34m)\u001b[0m\u001b[0;34m)\u001b[0m\u001b[0;34m\u001b[0m\u001b[0;34m\u001b[0m\u001b[0m\n\u001b[0;32m-> 1244\u001b[0;31m             \u001b[0mself\u001b[0m\u001b[0;34m.\u001b[0m\u001b[0mfail\u001b[0m\u001b[0;34m(\u001b[0m\u001b[0mself\u001b[0m\u001b[0;34m.\u001b[0m\u001b[0m_formatMessage\u001b[0m\u001b[0;34m(\u001b[0m\u001b[0mmsg\u001b[0m\u001b[0;34m,\u001b[0m \u001b[0mstandardMsg\u001b[0m\u001b[0;34m)\u001b[0m\u001b[0;34m)\u001b[0m\u001b[0;34m\u001b[0m\u001b[0;34m\u001b[0m\u001b[0m\n\u001b[0m\u001b[1;32m   1245\u001b[0m \u001b[0;34m\u001b[0m\u001b[0m\n\u001b[1;32m   1246\u001b[0m     \u001b[0;32mdef\u001b[0m \u001b[0massertIsNone\u001b[0m\u001b[0;34m(\u001b[0m\u001b[0mself\u001b[0m\u001b[0;34m,\u001b[0m \u001b[0mobj\u001b[0m\u001b[0;34m,\u001b[0m \u001b[0mmsg\u001b[0m\u001b[0;34m=\u001b[0m\u001b[0;32mNone\u001b[0m\u001b[0;34m)\u001b[0m\u001b[0;34m:\u001b[0m\u001b[0;34m\u001b[0m\u001b[0;34m\u001b[0m\u001b[0m\n",
        "\u001b[0;32m~/anaconda3/envs/cs236605-hw/lib/python3.7/unittest/case.py\u001b[0m in \u001b[0;36mfail\u001b[0;34m(self, msg)\u001b[0m\n\u001b[1;32m    678\u001b[0m     \u001b[0;32mdef\u001b[0m \u001b[0mfail\u001b[0m\u001b[0;34m(\u001b[0m\u001b[0mself\u001b[0m\u001b[0;34m,\u001b[0m \u001b[0mmsg\u001b[0m\u001b[0;34m=\u001b[0m\u001b[0;32mNone\u001b[0m\u001b[0;34m)\u001b[0m\u001b[0;34m:\u001b[0m\u001b[0;34m\u001b[0m\u001b[0;34m\u001b[0m\u001b[0m\n\u001b[1;32m    679\u001b[0m         \u001b[0;34m\"\"\"Fail immediately, with the given message.\"\"\"\u001b[0m\u001b[0;34m\u001b[0m\u001b[0;34m\u001b[0m\u001b[0m\n\u001b[0;32m--> 680\u001b[0;31m         \u001b[0;32mraise\u001b[0m \u001b[0mself\u001b[0m\u001b[0;34m.\u001b[0m\u001b[0mfailureException\u001b[0m\u001b[0;34m(\u001b[0m\u001b[0mmsg\u001b[0m\u001b[0;34m)\u001b[0m\u001b[0;34m\u001b[0m\u001b[0;34m\u001b[0m\u001b[0m\n\u001b[0m\u001b[1;32m    681\u001b[0m \u001b[0;34m\u001b[0m\u001b[0m\n\u001b[1;32m    682\u001b[0m     \u001b[0;32mdef\u001b[0m \u001b[0massertFalse\u001b[0m\u001b[0;34m(\u001b[0m\u001b[0mself\u001b[0m\u001b[0;34m,\u001b[0m \u001b[0mexpr\u001b[0m\u001b[0;34m,\u001b[0m \u001b[0mmsg\u001b[0m\u001b[0;34m=\u001b[0m\u001b[0;32mNone\u001b[0m\u001b[0;34m)\u001b[0m\u001b[0;34m:\u001b[0m\u001b[0;34m\u001b[0m\u001b[0;34m\u001b[0m\u001b[0m\n",
        "\u001b[0;31mAssertionError\u001b[0m: 94.0 not greater than or equal to 95"
       ]
      }
     ],
     "prompt_number": 5
    },
    {
     "cell_type": "markdown",
     "metadata": {
      "pycharm": {}
     },
     "source": [
      "## Experimenting with model architectures\n",
      "<a id=part3_3></a>"
     ]
    },
    {
     "cell_type": "markdown",
     "metadata": {
      "pycharm": {}
     },
     "source": [
      "You will now perform a series of experiments that train various model configurations on a much larger part of the CIFAR-10 dataset.\n",
      "\n",
      "To perform the experiments, you'll need to use a machine with a GPU since training time might be too long otherwise.\n"
     ]
    },
    {
     "cell_type": "markdown",
     "metadata": {
      "pycharm": {}
     },
     "source": [
      "### Notes on using course servers\n",
      "\n",
      "First, please read the [course servers guide](https://vistalab-technion.github.io/cs236605/assignments/hpc-servers/) carefully.\n",
      "\n",
      "To run the experiments on the course servers, you can use the `py-sbatch.sh` script directly to perform a single experiment run in batch mode (since it runs python once), or use the `srun` command to do a single run in interactive mode. For example, running a single run of experiment 1 interactively (after `conda activate` of course):\n",
      "\n",
      "```shell\n",
      "srun -c 2 --gres=gpu:1 --pty python -m hw2.experiments run-exp -n test -K 32 64 -L 2 -P 2 -H 100\n",
      "```\n",
      "\n",
      "To perform multiple runs in batch mode with `sbatch` (e.g. for running all the configurations of an experiments), you can create your own script based on `py-sbatch.sh` and invoke whatever commands you need within it.\n",
      "\n",
      "Please don't request more than **2 CPU** cores and **1 GPU** device for your runs. The code won't be able to utilize more than that anyway, so you'll see no performance gain if you do. It will only cause delays for other students using the servers."
     ]
    },
    {
     "cell_type": "markdown",
     "metadata": {
      "pycharm": {}
     },
     "source": [
      "### General notes for running experiments\n",
      "\n",
      "- You can run the experiments on a different machine (e.g. the course servers) and copy the results (files)\n",
      "to the `results` folder on your local machine.\n",
      "This notebook will only display the results, not run the actual experiment code (except for a demo run).\n",
      "\n",
      "- It's important to give each experiment run a name as specified by the notebook instructions later on. The each run has a `run_name` parameter that will also be the name of the results file which this notebook will expect to load.\n",
      "\n",
      "- You will implement the code to run the experiments in the `hw2/experiments.py` module. This module has a CLI parser so that you can invoke it as a script and pass in all the configuration parameters for a single experiment run.\n",
      "\n",
      "- You should use `python -m hw2.experiments run-exp` to run an experiment, and **not** `python hw2/experiments.py run-exp`, regardless of how/where you run it."
     ]
    },
    {
     "cell_type": "heading",
     "level": 3,
     "metadata": {
      "pycharm": {}
     },
     "source": [
      "Experiment 1 - Network depth and number of filters"
     ]
    },
    {
     "cell_type": "markdown",
     "metadata": {
      "pycharm": {}
     },
     "source": [
      "In this part we will test some different architecture configurations based on our `ConvClassifier`.\n",
      "Specifically, we want to try different depths and number of features to see the effects these parameters have on the model's performance.\n",
      "\n",
      "To do this, we'll define two extra hyperparameters for our model, `K` (`filters_per_layer`) and `L` (`layers_per_block`).\n",
      "- `K` is a list, containing the number of filters we want to have in our conv layers.\n",
      "- `L` is the number of consecutive layers with the same number of filters to use.\n",
      "\n",
      "For example, if `K=[32, 64]` and `L=2` it means we want two conv layers with 32 filters followed by two conv layers with 64 filters. The feature-extraction part of our model will therefore be:\n",
      "\n",
      "    Conv(X,32)->ReLu->Conv(32,32)->ReLU->MaxPool->Conv(32,64)->ReLU->Conv(64,64)->ReLU->MaxPool\n",
      "    \n",
      "We'll try various values of the `K` and `L` parameters in combination and see how each architecture trains. **All other hyperparameters are up to you**, including the choice of the optimization algorithm, the learning rate, regularization and architecture hyperparams such as `pad_every` and `hidden_dims`. You can try some manual runs to determine some good values for the hyperparameters or implement cross-validation to do it.\n",
      "However, the **dataset size** you test on should be large. Use at least ~12000 training images and ~3000 validation images. The **batch size** parameter however is also up to you.\n",
      "\n",
      "The important thing is that you state what you used, how you decided on it, and explain your results based on that."
     ]
    },
    {
     "cell_type": "markdown",
     "metadata": {
      "pycharm": {}
     },
     "source": [
      "First we need to write some code to run the experiment.\n",
      "\n",
      "**TODO**:\n",
      "1. Implement the `run_experiment()` function in the `hw2/experiments.py` module.\n",
      "1. If you haven't done so already, it would be an excellent idea to implement the **early stopping** feature of the `Trainer` class.\n",
      "\n",
      "The following block tests that your implementation works. It's also meant to show you that each experiment run creates a result file containing the parameters to reproduce and the `FitResult` object for plotting."
     ]
    },
    {
     "cell_type": "code",
     "collapsed": false,
     "input": [
      "import hw2.experiments as experiments\n",
      "from hw2.experiments import load_experiment\n",
      "from cs236605.plot import plot_fit\n",
      "\n",
      "# Test experiment1 implementation on a few data samples and with a small model\n",
      "experiments.run_experiment('test_run', seed=seed, bs_train=50, batches=10, epochs=10, early_stopping=5,\n",
      "                           filters_per_layer=[32], layers_per_block=1, pool_every=1, hidden_dims=[100])\n",
      "\n",
      "# There should now be a file 'test_run.json' in your `results/` folder.\n",
      "# We can use it to load the results of the experiment.\n",
      "cfg, fit_res = load_experiment('results/test_run.json')\n",
      "_, _ = plot_fit(fit_res)\n",
      "\n",
      "# And `cfg` contains the exact parameters to reproduce it\n",
      "print('experiment config: ', cfg)"
     ],
     "language": "python",
     "metadata": {
      "pycharm": {
       "is_executing": false
      }
     },
     "outputs": [
      {
       "ename": "ModuleNotFoundError",
       "evalue": "No module named 'torch'",
       "output_type": "pyerr",
       "traceback": [
        "\u001b[1;31m---------------------------------------------------------------------------\u001b[0m",
        "\u001b[1;31mModuleNotFoundError\u001b[0m                       Traceback (most recent call last)",
        "\u001b[1;32m<ipython-input-4-0f5c5560915c>\u001b[0m in \u001b[0;36m<module>\u001b[1;34m\u001b[0m\n\u001b[1;32m----> 1\u001b[1;33m \u001b[1;32mimport\u001b[0m \u001b[0mhw2\u001b[0m\u001b[1;33m.\u001b[0m\u001b[0mexperiments\u001b[0m \u001b[1;32mas\u001b[0m \u001b[0mexperiments\u001b[0m\u001b[1;33m\u001b[0m\u001b[1;33m\u001b[0m\u001b[0m\n\u001b[0m\u001b[0;32m      2\u001b[0m \u001b[1;32mfrom\u001b[0m \u001b[0mhw2\u001b[0m\u001b[1;33m.\u001b[0m\u001b[0mexperiments\u001b[0m \u001b[1;32mimport\u001b[0m \u001b[0mload_experiment\u001b[0m\u001b[1;33m\u001b[0m\u001b[1;33m\u001b[0m\u001b[0m\n\u001b[0;32m      3\u001b[0m \u001b[1;32mfrom\u001b[0m \u001b[0mcs236605\u001b[0m\u001b[1;33m.\u001b[0m\u001b[0mplot\u001b[0m \u001b[1;32mimport\u001b[0m \u001b[0mplot_fit\u001b[0m\u001b[1;33m\u001b[0m\u001b[1;33m\u001b[0m\u001b[0m\n\u001b[0;32m      4\u001b[0m \u001b[1;33m\u001b[0m\u001b[0m\n\u001b[0;32m      5\u001b[0m \u001b[1;31m# Test experiment1 implementation on a few data samples and with a small model\u001b[0m\u001b[1;33m\u001b[0m\u001b[1;33m\u001b[0m\u001b[1;33m\u001b[0m\u001b[0m\n",
        "\u001b[1;32m~\\PycharmProjects\\DL2\\hw2\\experiments.py\u001b[0m in \u001b[0;36m<module>\u001b[1;34m\u001b[0m\n\u001b[0;32m      6\u001b[0m \u001b[1;32mimport\u001b[0m \u001b[0mjson\u001b[0m\u001b[1;33m\u001b[0m\u001b[1;33m\u001b[0m\u001b[0m\n\u001b[0;32m      7\u001b[0m \u001b[1;33m\u001b[0m\u001b[0m\n\u001b[1;32m----> 8\u001b[1;33m \u001b[1;32mimport\u001b[0m \u001b[0mtorch\u001b[0m\u001b[1;33m\u001b[0m\u001b[1;33m\u001b[0m\u001b[0m\n\u001b[0m\u001b[0;32m      9\u001b[0m \u001b[1;32mimport\u001b[0m \u001b[0mtorchvision\u001b[0m\u001b[1;33m\u001b[0m\u001b[1;33m\u001b[0m\u001b[0m\n\u001b[0;32m     10\u001b[0m \u001b[1;33m\u001b[0m\u001b[0m\n",
        "\u001b[1;31mModuleNotFoundError\u001b[0m: No module named 'torch'"
       ]
      }
     ],
     "prompt_number": 4
    },
    {
     "cell_type": "markdown",
     "metadata": {
      "pycharm": {}
     },
     "source": [
      "We'll use the following function to load multiple experiment results and plot them together."
     ]
    },
    {
     "cell_type": "code",
     "collapsed": false,
     "input": [
      "def plot_exp_results(filename_pattern, results_dir='results'):\n",
      "    fig = None\n",
      "    result_files = glob.glob(os.path.join(results_dir, filename_pattern))\n",
      "    result_files.sort()\n",
      "    if len(result_files) == 0:\n",
      "        print(f'No results found for pattern {filename_pattern}.', file=sys.stderr)\n",
      "        return\n",
      "    for filepath in result_files:\n",
      "        m = re.match('exp\\d_(\\d_)?(.*)\\.json', os.path.basename(filepath))\n",
      "        cfg, fit_res = load_experiment(filepath)\n",
      "        fig, axes = plot_fit(fit_res, fig, legend=m[2],log_loss=True)\n",
      "    del cfg['filters_per_layer']\n",
      "    del cfg['layers_per_block']\n",
      "    print('common config: ', cfg)"
     ],
     "language": "python",
     "metadata": {
      "pycharm": {}
     },
     "outputs": [],
     "prompt_number": 2
    },
    {
     "cell_type": "heading",
     "level": 4,
     "metadata": {
      "pycharm": {}
     },
     "source": [
      "Experiment 1.1: Varying the network depth (`L`)"
     ]
    },
    {
     "cell_type": "markdown",
     "metadata": {
      "pycharm": {}
     },
     "source": [
      "First, we'll test the effect of the network depth on training.\n",
      "\n",
      "**Configuratons**:\n",
      "- `K=32` fixed, with `L=2,4,8,16` varying per run\n",
      "- `K=64` fixed, with `L=2,4,8,16` varying per run\n",
      "\n",
      "So 8 different runs in total.\n",
      "\n",
      "**Naming runs**:\n",
      "Each run should be named `exp1_1_K{}_L{}` where the braces are placeholders for the values. For example, the first run should be named `exp1_1_K32_L2`. "
     ]
    },
    {
     "cell_type": "markdown",
     "metadata": {
      "pycharm": {}
     },
     "source": [
      "**TODO**: Run the experiment on the above configuration. Make sure the result file names are as expected. Use the following blocks to display the results."
     ]
    },
    {
     "cell_type": "code",
     "collapsed": false,
     "input": [
      "plot_exp_results('exp1_1_K32*.json')"
     ],
     "language": "python",
     "metadata": {
      "pycharm": {}
     },
     "outputs": [
      {
       "ename": "NameError",
       "evalue": "name 'glob' is not defined",
       "output_type": "pyerr",
       "traceback": [
        "\u001b[1;31m---------------------------------------------------------------------------\u001b[0m",
        "\u001b[1;31mNameError\u001b[0m                                 Traceback (most recent call last)",
        "\u001b[1;32m<ipython-input-3-3ae7187c3de8>\u001b[0m in \u001b[0;36m<module>\u001b[1;34m\u001b[0m\n\u001b[1;32m----> 1\u001b[1;33m \u001b[0mplot_exp_results\u001b[0m\u001b[1;33m(\u001b[0m\u001b[1;34m'exp1_1_K32*.json'\u001b[0m\u001b[1;33m)\u001b[0m\u001b[1;33m\u001b[0m\u001b[1;33m\u001b[0m\u001b[0m\n\u001b[0m",
        "\u001b[1;32m<ipython-input-2-86324a873fe1>\u001b[0m in \u001b[0;36mplot_exp_results\u001b[1;34m(filename_pattern, results_dir)\u001b[0m\n\u001b[0;32m      1\u001b[0m \u001b[1;32mdef\u001b[0m \u001b[0mplot_exp_results\u001b[0m\u001b[1;33m(\u001b[0m\u001b[0mfilename_pattern\u001b[0m\u001b[1;33m,\u001b[0m \u001b[0mresults_dir\u001b[0m\u001b[1;33m=\u001b[0m\u001b[1;34m'results'\u001b[0m\u001b[1;33m)\u001b[0m\u001b[1;33m:\u001b[0m\u001b[1;33m\u001b[0m\u001b[1;33m\u001b[0m\u001b[0m\n\u001b[0;32m      2\u001b[0m     \u001b[0mfig\u001b[0m \u001b[1;33m=\u001b[0m \u001b[1;32mNone\u001b[0m\u001b[1;33m\u001b[0m\u001b[1;33m\u001b[0m\u001b[0m\n\u001b[1;32m----> 3\u001b[1;33m     \u001b[0mresult_files\u001b[0m \u001b[1;33m=\u001b[0m \u001b[0mglob\u001b[0m\u001b[1;33m.\u001b[0m\u001b[0mglob\u001b[0m\u001b[1;33m(\u001b[0m\u001b[0mos\u001b[0m\u001b[1;33m.\u001b[0m\u001b[0mpath\u001b[0m\u001b[1;33m.\u001b[0m\u001b[0mjoin\u001b[0m\u001b[1;33m(\u001b[0m\u001b[0mresults_dir\u001b[0m\u001b[1;33m,\u001b[0m \u001b[0mfilename_pattern\u001b[0m\u001b[1;33m)\u001b[0m\u001b[1;33m)\u001b[0m\u001b[1;33m\u001b[0m\u001b[1;33m\u001b[0m\u001b[0m\n\u001b[0m\u001b[0;32m      4\u001b[0m     \u001b[0mresult_files\u001b[0m\u001b[1;33m.\u001b[0m\u001b[0msort\u001b[0m\u001b[1;33m(\u001b[0m\u001b[1;33m)\u001b[0m\u001b[1;33m\u001b[0m\u001b[1;33m\u001b[0m\u001b[0m\n\u001b[0;32m      5\u001b[0m     \u001b[1;32mif\u001b[0m \u001b[0mlen\u001b[0m\u001b[1;33m(\u001b[0m\u001b[0mresult_files\u001b[0m\u001b[1;33m)\u001b[0m \u001b[1;33m==\u001b[0m \u001b[1;36m0\u001b[0m\u001b[1;33m:\u001b[0m\u001b[1;33m\u001b[0m\u001b[1;33m\u001b[0m\u001b[0m\n",
        "\u001b[1;31mNameError\u001b[0m: name 'glob' is not defined"
       ]
      }
     ],
     "prompt_number": 3
    },
    {
     "cell_type": "code",
     "collapsed": false,
     "input": [
      "plot_exp_results('exp1_1_K64*.json')"
     ],
     "language": "python",
     "metadata": {
      "pycharm": {}
     },
     "outputs": [],
     "prompt_number": null
    },
    {
     "cell_type": "heading",
     "level": 4,
     "metadata": {
      "pycharm": {}
     },
     "source": [
      "Experiment 1.2: Varying the number of filters per layer (`K`)"
     ]
    },
    {
     "cell_type": "markdown",
     "metadata": {
      "pycharm": {}
     },
     "source": [
      "Now we'll test the effect of the number of convolutional filters in each layer.\n",
      "\n",
      "**Configuratons**:\n",
      "- `L=2` fixed, with `K=[32],[64],[128],[258]` varying per run.\n",
      "- `L=4` fixed, with `K=[32],[64],[128],[258]` varying per run.\n",
      "- `L=8` fixed, with `K=[32],[64],[128],[258]` varying per run.\n",
      "\n",
      "So 12 different runs in total. To clarify, each run `K` takes the value of a list with a single element.\n",
      "\n",
      "**Naming runs**:\n",
      "Each run should be named `exp1_2_L{}_K{}` where the braces are placeholders for the values. For example, the first run should be named `exp1_2_L2_K32`. "
     ]
    },
    {
     "cell_type": "markdown",
     "metadata": {
      "pycharm": {}
     },
     "source": [
      "**TODO**: Run the experiment on the above configuration. Make sure the result file names are as expected. Use the following blocks to display the results."
     ]
    },
    {
     "cell_type": "code",
     "collapsed": false,
     "input": [
      "plot_exp_results('exp1_2_L2*.json')"
     ],
     "language": "python",
     "metadata": {
      "pycharm": {}
     },
     "outputs": [],
     "prompt_number": null
    },
    {
     "cell_type": "code",
     "collapsed": false,
     "input": [
      "plot_exp_results('exp1_2_L4*.json')"
     ],
     "language": "python",
     "metadata": {
      "pycharm": {}
     },
     "outputs": [],
     "prompt_number": null
    },
    {
     "cell_type": "code",
     "collapsed": false,
     "input": [
      "plot_exp_results('exp1_2_L8*.json')"
     ],
     "language": "python",
     "metadata": {
      "pycharm": {}
     },
     "outputs": [],
     "prompt_number": null
    },
    {
     "cell_type": "heading",
     "level": 4,
     "metadata": {
      "pycharm": {}
     },
     "source": [
      "Experiment 1.3: Varying both the number of filters (`K`) and network depth (`L`)"
     ]
    },
    {
     "cell_type": "markdown",
     "metadata": {
      "pycharm": {}
     },
     "source": [
      "Now we'll test the effect of the number of convolutional filters in each layer.\n",
      "\n",
      "**Configuratons**:\n",
      "- `K=[64, 128, 256]` fixed with `L=1,2,3,4` varying per run.\n",
      "\n",
      "So 4 different runs in total. To clarify, each run `K` takes the value of an array with a three elements.\n",
      "\n",
      "**Naming runs**:\n",
      "Each run should be named `exp1_3_L{}_K{}-{}-{}` where the braces are placeholders for the values. For example, the first run should be named `exp1_3_L1_K64-128-256`. "
     ]
    },
    {
     "cell_type": "markdown",
     "metadata": {
      "pycharm": {}
     },
     "source": [
      "**TODO**: Run the experiment on the above configuration. Make sure the result file names are as expected. Use the following blocks to display the results."
     ]
    },
    {
     "cell_type": "code",
     "collapsed": false,
     "input": [
      "plot_exp_results('exp1_3*.json')"
     ],
     "language": "python",
     "metadata": {
      "pycharm": {}
     },
     "outputs": [],
     "prompt_number": null
    },
    {
     "cell_type": "heading",
     "level": 3,
     "metadata": {
      "pycharm": {}
     },
     "source": [
      "Experiment 2 - Custom network architecture"
     ]
    },
    {
     "cell_type": "markdown",
     "metadata": {
      "pycharm": {}
     },
     "source": [
      "In this part you will create your own custom network architecture based on the `ConvClassifier` you've implemented.\n",
      "\n",
      "Try to overcome some of the limitations your experiment 1 results, using what you learned in the course.\n",
      "\n",
      "You are free to add whatever you like to the model, for instance \n",
      "- Batch normalization\n",
      "- Dropout layers\n",
      "- Skip connections\n",
      "- Change kernel spatial sizes and strides\n",
      "- Custom blocks or ideas from known architectures (e.g. inception module)\n",
      "\n",
      "Just make sure to keep the model's `init` API identical (or maybe just add parameters)."
     ]
    },
    {
     "cell_type": "markdown",
     "metadata": {
      "pycharm": {}
     },
     "source": [
      "**TODO**: Implement your custom architecture in the `YourCodeNet` class within the `hw2/models.py` module."
     ]
    },
    {
     "cell_type": "code",
     "collapsed": false,
     "input": [
      "net = models.YourCodeNet((3,100,100), 10, filters=[32]*4, pool_every=2, hidden_dims=[100]*2).to(device)\n",
      "print(net)\n",
      "\n",
      "test_image = torch.randint(low=0, high=256, size=(3, 100, 100), dtype=torch.float).to(device)\n",
      "test_out = net(test_image.unsqueeze(0))\n",
      "print('out =', test_out)"
     ],
     "language": "python",
     "metadata": {
      "pycharm": {}
     },
     "outputs": [],
     "prompt_number": null
    },
    {
     "cell_type": "heading",
     "level": 4,
     "metadata": {
      "pycharm": {}
     },
     "source": [
      "Experiment 2 Configuration"
     ]
    },
    {
     "cell_type": "markdown",
     "metadata": {
      "pycharm": {}
     },
     "source": [
      "Run your custom model on at least the following:\n",
      "\n",
      "**Configuratons**:\n",
      "- `K=[64, 128, 256, 512]` fixed with `L=1,2,3,4` varying per run.\n",
      "\n",
      "So 4 different runs in total. To clarify, each run `K` takes the value of an array with a four elements.\n",
      "\n",
      "If you want, you can add some extra following the same pattern.\n",
      "Try to see how deep a model you can train.\n",
      "\n",
      "**Naming runs**:\n",
      "Each run should be named `exp2_L{}_K{}-{}-{}-{}` where the braces are placeholders for the values. For example, the first run should be named `exp2_L1_K64-128-256-512`. "
     ]
    },
    {
     "cell_type": "markdown",
     "metadata": {
      "pycharm": {}
     },
     "source": [
      "**TODO**: Run the experiment on the above configuration. Make sure the result file names are as expected. Use the following blocks to display the results. To make the experiment runner use your custom network model instead of the previous one, use the `--ycn` argument on the command line."
     ]
    },
    {
     "cell_type": "code",
     "collapsed": false,
     "input": [
      "plot_exp_results('exp2*.json')"
     ],
     "language": "python",
     "metadata": {
      "pycharm": {}
     },
     "outputs": [],
     "prompt_number": null
    },
    {
     "cell_type": "markdown",
     "metadata": {
      "pycharm": {}
     },
     "source": [
      "## Questions\n",
      "<a id=part3_4></a>"
     ]
    },
    {
     "cell_type": "markdown",
     "metadata": {
      "pycharm": {}
     },
     "source": [
      "**TODO** Answer the following questions. Write your answers in the appropriate variables in the module `hw2/answers.py`."
     ]
    },
    {
     "cell_type": "code",
     "collapsed": false,
     "input": [
      "from cs236605.answers import display_answer\n",
      "import hw2.answers"
     ],
     "language": "python",
     "metadata": {
      "pycharm": {}
     },
     "outputs": [],
     "prompt_number": null
    },
    {
     "cell_type": "markdown",
     "metadata": {
      "pycharm": {}
     },
     "source": [
      "### Question 1 \n",
      "\n",
      "Analyze your results from experiment 1.1. In particular,\n",
      "1.  Explain the effect of depth on the accuracy. What depth produces the best results and why do you think that's the case?\n",
      "1. Were there values of `L` for which the network wasn't trainable? what causes this? Suggest two things which may be done to resolve it at least partially."
     ]
    },
    {
     "cell_type": "code",
     "collapsed": false,
     "input": [
      "display_answer(hw2.answers.part3_q1)"
     ],
     "language": "python",
     "metadata": {
      "pycharm": {}
     },
     "outputs": [],
     "prompt_number": null
    },
    {
     "cell_type": "markdown",
     "metadata": {
      "pycharm": {}
     },
     "source": [
      "### Question 2 \n",
      "\n",
      "Analyze your results from experiment 1.2. In particular, compare to the results of experiment 1.1."
     ]
    },
    {
     "cell_type": "code",
     "collapsed": false,
     "input": [
      "display_answer(hw2.answers.part3_q2)"
     ],
     "language": "python",
     "metadata": {
      "pycharm": {}
     },
     "outputs": [],
     "prompt_number": null
    },
    {
     "cell_type": "markdown",
     "metadata": {
      "pycharm": {}
     },
     "source": [
      "### Question 3 \n",
      "\n",
      "Analyze your results from experiment 1.3."
     ]
    },
    {
     "cell_type": "code",
     "collapsed": false,
     "input": [
      "display_answer(hw2.answers.part3_q3)"
     ],
     "language": "python",
     "metadata": {
      "pycharm": {}
     },
     "outputs": [],
     "prompt_number": null
    },
    {
     "cell_type": "markdown",
     "metadata": {
      "pycharm": {}
     },
     "source": [
      "### Question 4 \n",
      "\n",
      "1. Explain your modifications to the architecture which you implemented in the `YourCodeNet` class.\n",
      "2. Analyze the results of experiment 2. Compare to experiment 1."
     ]
    },
    {
     "cell_type": "code",
     "collapsed": false,
     "input": [
      "display_answer(hw2.answers.part3_q4)"
     ],
     "language": "python",
     "metadata": {
      "pycharm": {}
     },
     "outputs": [],
     "prompt_number": null
    }
   ],
   "metadata": {}
  }
 ]
}
